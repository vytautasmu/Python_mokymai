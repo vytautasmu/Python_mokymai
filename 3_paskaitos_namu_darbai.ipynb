{
 "cells": [
  {
   "cell_type": "markdown",
   "metadata": {},
   "source": [
    "\n",
    "#### 1. Iš pirmų 100 skaičių, jeigu skaičius dalinasi iš 2 be liekanos, atspausdinkite ‘Fizz’, jeigu skaičius dalinasi iš 3 be liekanos atspausdinkite ‘Buzz’, jei skaičius dalinasi iš 2 ir 3 be liekanos, atspausdinkite ‘FizzBuzz’"
   ]
  },
  {
   "cell_type": "code",
   "execution_count": 1,
   "metadata": {},
   "outputs": [
    {
     "name": "stdout",
     "output_type": "stream",
     "text": [
      "2 Fizz\n",
      "3 Buzz\n",
      "4 Fizz\n",
      "6 FizzBuzz\n",
      "8 Fizz\n",
      "9 Buzz\n",
      "10 Fizz\n",
      "12 FizzBuzz\n",
      "14 Fizz\n",
      "15 Buzz\n",
      "16 Fizz\n",
      "18 FizzBuzz\n",
      "20 Fizz\n",
      "21 Buzz\n",
      "22 Fizz\n",
      "24 FizzBuzz\n",
      "26 Fizz\n",
      "27 Buzz\n",
      "28 Fizz\n",
      "30 FizzBuzz\n",
      "32 Fizz\n",
      "33 Buzz\n",
      "34 Fizz\n",
      "36 FizzBuzz\n",
      "38 Fizz\n",
      "39 Buzz\n",
      "40 Fizz\n",
      "42 FizzBuzz\n",
      "44 Fizz\n",
      "45 Buzz\n",
      "46 Fizz\n",
      "48 FizzBuzz\n",
      "50 Fizz\n",
      "51 Buzz\n",
      "52 Fizz\n",
      "54 FizzBuzz\n",
      "56 Fizz\n",
      "57 Buzz\n",
      "58 Fizz\n",
      "60 FizzBuzz\n",
      "62 Fizz\n",
      "63 Buzz\n",
      "64 Fizz\n",
      "66 FizzBuzz\n",
      "68 Fizz\n",
      "69 Buzz\n",
      "70 Fizz\n",
      "72 FizzBuzz\n",
      "74 Fizz\n",
      "75 Buzz\n",
      "76 Fizz\n",
      "78 FizzBuzz\n",
      "80 Fizz\n",
      "81 Buzz\n",
      "82 Fizz\n",
      "84 FizzBuzz\n",
      "86 Fizz\n",
      "87 Buzz\n",
      "88 Fizz\n",
      "90 FizzBuzz\n",
      "92 Fizz\n",
      "93 Buzz\n",
      "94 Fizz\n",
      "96 FizzBuzz\n",
      "98 Fizz\n",
      "99 Buzz\n",
      "100 Fizz\n",
      "Done\n"
     ]
    }
   ],
   "source": [
    "numbers = range(1,101)\n",
    "\n",
    "for number in numbers:\n",
    "    if number % 2 == 0 and number % 3 == 0:\n",
    "        print(number, 'FizzBuzz')\n",
    "    elif number % 2 == 0: \n",
    "        print(number, 'Fizz')\n",
    "    elif number % 3 == 0:\n",
    "        print(number, 'Buzz')\n",
    "print('Done')\n"
   ]
  },
  {
   "cell_type": "markdown",
   "metadata": {},
   "source": [
    "#### 2. Leiskite vartotojui pasirinkti skaičių, jeigu įvestas skaičius yra daugiau arba lygus 10, atspausdinkite visus skaičius kurie dalinasi iš 5 su liekana. Kitu atveju nieko nedaryti ir pranešti vartotojui apie tai."
   ]
  },
  {
   "cell_type": "code",
   "execution_count": 3,
   "metadata": {},
   "outputs": [
    {
     "name": "stdout",
     "output_type": "stream",
     "text": [
      "Number you selected is too low. Please input higher number\n",
      "Number you selected is too low. Please input higher number\n",
      "11\n",
      "1\n",
      "2\n",
      "3\n",
      "4\n",
      "6\n",
      "7\n",
      "8\n",
      "9\n",
      "11\n"
     ]
    }
   ],
   "source": [
    "input_number = 0\n",
    "\n",
    "while input_number < 10:\n",
    "\n",
    "    input_number = int(input('Input random number: '))\n",
    "    if input_number < 10:\n",
    "        print('Number you selected is too low. Please input higher number')\n",
    "    else:\n",
    "        print(input_number)\n",
    "\n",
    "if input_number >= 10:\n",
    "    for number in range(1,input_number+1):\n",
    "        if number % 5 != 0:\n",
    "            print(number)\n"
   ]
  },
  {
   "cell_type": "markdown",
   "metadata": {},
   "source": [
    "#### 3. sudarykite visas įmanomas kombinacijas iš pateiktų 3 list'ų. Kiek yra iš viso kombinacijų? Išrikiuokite kombinacijų sąrašą nuo didžiausios iki mažiausios reikšmės (Gali tekti paieškoti informacijos kaip tai padaryti). <br>\n",
    "\n",
    "a = ['1','2','3','4','5']<br>\n",
    "b = ['labas', 'vakaras', 'kokia grazi diena', 'siandien uz lango', '10 laipsniu silumos']<br>\n",
    "c = ['100', '200', 40, 10]"
   ]
  },
  {
   "cell_type": "code",
   "execution_count": 5,
   "metadata": {},
   "outputs": [
    {
     "name": "stdout",
     "output_type": "stream",
     "text": [
      "[('1', 'labas', '100'), ('1', 'labas', '200'), ('1', 'labas', 40), ('1', 'labas', 10), ('1', 'vakaras', '100'), ('1', 'vakaras', '200'), ('1', 'vakaras', 40), ('1', 'vakaras', 10), ('1', 'kokia grazi diena', '100'), ('1', 'kokia grazi diena', '200')]\n"
     ]
    }
   ],
   "source": [
    "a_list = ['1','2','3','4','5']\n",
    "b_list = ['labas', 'vakaras', 'kokia grazi diena', 'siandien uz lango', '10 laipsniu silumos']\n",
    "c_list = ['100', '200', 40, 10]\n",
    "\n",
    "combined = []\n",
    "for a in a_list:\n",
    "    for b in b_list:\n",
    "        for c in c_list:\n",
    "            combined.append((a,b,c))\n",
    "print(combined[:10])"
   ]
  },
  {
   "cell_type": "code",
   "execution_count": 9,
   "metadata": {},
   "outputs": [
    {
     "name": "stdout",
     "output_type": "stream",
     "text": [
      "[('1', 'labas', '100'), ('1', 'labas', '200'), ('1', 'labas', 40), ('1', 'labas', 10), ('1', 'vakaras', '100'), ('1', 'vakaras', '200'), ('1', 'vakaras', 40), ('1', 'vakaras', 10), ('1', 'kokia grazi diena', '100'), ('1', 'kokia grazi diena', '200')]\n",
      "\n",
      "Number of combinations: 100\n",
      "\n",
      "Sorted List based on index 0: [('5', 'labas', '100'), ('5', 'labas', '200'), ('5', 'labas', 40), ('5', 'labas', 10), ('5', 'vakaras', '100'), ('5', 'vakaras', '200'), ('5', 'vakaras', 40), ('5', 'vakaras', 10), ('5', 'kokia grazi diena', '100'), ('5', 'kokia grazi diena', '200')]\n",
      "\n",
      "Sorted List based on index 1: [('1', 'vakaras', '100'), ('1', 'vakaras', '200'), ('1', 'vakaras', 40), ('1', 'vakaras', 10), ('2', 'vakaras', '100'), ('2', 'vakaras', '200'), ('2', 'vakaras', 40), ('2', 'vakaras', 10), ('3', 'vakaras', '100'), ('3', 'vakaras', '200')]\n",
      "\n"
     ]
    }
   ],
   "source": [
    "a_list = ['1','2','3','4','5']\n",
    "b_list = ['labas', 'vakaras', 'kokia grazi diena', 'siandien uz lango', '10 laipsniu silumos']\n",
    "c_list = ['100', '200', 40, 10]\n",
    "\n",
    "combined = [(a,b,c) for a in a_list for b in b_list for c in c_list]\n",
    "print(combined[:10])\n",
    "print('')\n",
    "print('Number of combinations:', len(combined))\n",
    "print('') \n",
    "print(\"Sorted List based on index 0:\", (sorted(combined, key=lambda x:x[0], reverse = True)[:10]))   # sorted(List_name, key=lambda x:x[index_number])\n",
    "print('')\n",
    "print(\"Sorted List based on index 1:\", (sorted(combined, key=lambda x:x[1], reverse = True)[:10]))\n",
    "print('')\n",
    "# print(\"Sorted List A based on index 2:\", (sorted(combined, key=lambda x:x[2])))"
   ]
  },
  {
   "cell_type": "markdown",
   "metadata": {},
   "source": [
    "#### 4. Paskaičiuoti pelną pardavus visas prekes. Informacija apie kainą ir kiekius yra pateikiama  kaip dictionary, atsakymą suapvalinti iki 2 skaičių po kablelio.\n",
    "x = { \"cost_price\": 32.67, <br>\n",
    "         \"sell_price\": 45.00, <br>\n",
    "         “inventory\": 1212 }"
   ]
  },
  {
   "cell_type": "code",
   "execution_count": 10,
   "metadata": {},
   "outputs": [
    {
     "name": "stdout",
     "output_type": "stream",
     "text": [
      "14943.96\n"
     ]
    }
   ],
   "source": [
    "x = { \n",
    "    \"cost_price\": 32.67,\n",
    "    \"sell_price\": 45.00,\n",
    "    \"inventory\": 1212 }\n",
    "\n",
    "inventory_cost = x['inventory'] * x['cost_price']\n",
    "revenue = x['inventory'] * x['sell_price']\n",
    "\n",
    "profit = revenue - inventory_cost\n",
    "print(round(profit, 2))"
   ]
  }
 ],
 "metadata": {
  "interpreter": {
   "hash": "f9978182bf679f263596547431d29e9cec7015cfc91316134a594a6696d7f386"
  },
  "kernelspec": {
   "display_name": "Python 3.8.5 32-bit",
   "language": "python",
   "name": "python3"
  },
  "language_info": {
   "codemirror_mode": {
    "name": "ipython",
    "version": 3
   },
   "file_extension": ".py",
   "mimetype": "text/x-python",
   "name": "python",
   "nbconvert_exporter": "python",
   "pygments_lexer": "ipython3",
   "version": "3.8.5"
  },
  "orig_nbformat": 4
 },
 "nbformat": 4,
 "nbformat_minor": 2
}
