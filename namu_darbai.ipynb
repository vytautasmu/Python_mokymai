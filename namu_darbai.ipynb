{
 "cells": [
  {
   "cell_type": "markdown",
   "metadata": {},
   "source": [
    "# Pirmos paskaitos namu darbai\n"
   ]
  },
  {
   "cell_type": "markdown",
   "metadata": {},
   "source": [
    "1. Atspausdinkite savo vardą ir pavardę viena print() funkcija. Panaudokite du kintamuosius, panaudokite viengubas ir dvigubas kabutes."
   ]
  },
  {
   "cell_type": "code",
   "execution_count": 75,
   "metadata": {},
   "outputs": [
    {
     "name": "stdout",
     "output_type": "stream",
     "text": [
      "Vardas : Vytautas\n",
      "Pavarde : Mudenas\n"
     ]
    }
   ],
   "source": [
    "vardas = 'Vytautas'\n",
    "pavarde = \"Mudenas\"\n",
    "print(f'Vardas : {vardas}\\nPavarde : {pavarde}')"
   ]
  },
  {
   "cell_type": "markdown",
   "metadata": {},
   "source": [
    "2. Iš stringo 'Python makes me really really happy!' . <br>\n",
    "    2.1 Į ekraną išveskite string’ą tik didžiosiomis raidėmis <br>\n",
    "    2.2 Pakeiskite žodį Python į PyThOn naudodami replace() "
   ]
  },
  {
   "cell_type": "code",
   "execution_count": 13,
   "metadata": {},
   "outputs": [
    {
     "name": "stdout",
     "output_type": "stream",
     "text": [
      "Python makes me really really happy!\n",
      "PYTHON MAKES ME REALLY REALLY HAPPY!\n",
      "PyThOn makes me really really happy!\n"
     ]
    }
   ],
   "source": [
    "eilute = 'Python makes me really really happy!'\n",
    "print(eilute)\n",
    "print(eilute.upper())\n",
    "print(eilute.replace('Python', 'PyThOn'))"
   ]
  },
  {
   "cell_type": "markdown",
   "metadata": {},
   "source": [
    "3. Iš stringo ‘Hello World, I am happy to learn Python!’ <br>\n",
    "    3.1 Atspausdinkite ‘happy’ naudodami slice sintaksę. Naudokite  .index(‘happy’), len(‘happy’) tam <br>\n",
    "    3.2 Atspausdinkite ‘to’ naudodami slice sintaksę <br>\n",
    "    3.3 Koks šio string ilgis? "
   ]
  },
  {
   "cell_type": "code",
   "execution_count": 39,
   "metadata": {},
   "outputs": [
    {
     "name": "stdout",
     "output_type": "stream",
     "text": [
      "Hello World, I am happy to learn Python!\n",
      "happy\n",
      "to\n",
      "40\n"
     ]
    }
   ],
   "source": [
    "eilute_2 = 'Hello World, I am happy to learn Python!'\n",
    "print(eilute_2)\n",
    "\n",
    "print ( eilute_2 [ eilute_2.index( 'happy' ):eilute_2.index( 'happy' ) + len( 'happy' ) ] )\n",
    "print ( eilute_2 [ eilute_2.index( 'to' ):eilute_2.index( 'to' ) + len( 'to' ) ] )\n",
    "print(len(eilute_2))\n",
    "\n"
   ]
  },
  {
   "cell_type": "markdown",
   "metadata": {},
   "source": [
    "# Antros paskaitos namu darbai"
   ]
  },
  {
   "cell_type": "markdown",
   "metadata": {},
   "source": [
    "1. Jeigu norėtume nuvažiuoti iki mėnulio (384000 km) automobiliu, kurio greitis 150km/h, kiek  valandų. N.d:metų, mėnesių, dienų, sekundžių tai užtruktų?\n"
   ]
  },
  {
   "cell_type": "code",
   "execution_count": 53,
   "metadata": {},
   "outputs": [
    {
     "name": "stdout",
     "output_type": "stream",
     "text": [
      "Atstumas iki saules yra 390.625 kartu didnesnis nei iki menulio.\n",
      "Iki menulio nuvaziuoti automobiliu, kurio greitis 150km/h uztruktu: \n",
      " 2560.0 - valandu \n",
      " 0.29 - metu \n",
      " 106.0 - dienas \n",
      " 9216000.0 - sekundziu\n"
     ]
    }
   ],
   "source": [
    "ats_men = 384000\n",
    "ats_saul = 150000000\n",
    "greitis_kmh = 150\n",
    "\n",
    "kartai = ats_saul / ats_men\n",
    "valandos = ats_men / greitis_kmh\n",
    "sekundes = valandos * 3600\n",
    "dienos = valandos // 24\n",
    "metai = round(((dienos) / 365),2)\n",
    "\n",
    "\n",
    "print(f'Atstumas iki saules yra {kartai} kartu didnesnis nei iki menulio.')\n",
    "print(f'Iki menulio nuvaziuoti automobiliu, kurio greitis 150km/h uztruktu: \\n {valandos} - valandu \\n {metai} - metu \\n {dienos} - dienas \\n {sekundes} - sekundziu')"
   ]
  },
  {
   "cell_type": "markdown",
   "metadata": {},
   "source": [
    "2. Kiek dienų praėjo nuo jūsų gimimo dienos?"
   ]
  },
  {
   "cell_type": "code",
   "execution_count": 81,
   "metadata": {},
   "outputs": [
    {
     "name": "stdout",
     "output_type": "stream",
     "text": [
      "nuo mano gimimo dienos praejo 11363 dienos\n"
     ]
    }
   ],
   "source": [
    "import datetime\n",
    "\n",
    "birth_date = datetime.date(1991,1,12)\n",
    "todays_date = datetime.date.today()\n",
    "print(f'nuo mano gimimo dienos praejo {(todays_date-birth_date).days} dienos')"
   ]
  },
  {
   "cell_type": "markdown",
   "metadata": {},
   "source": [
    "3. Sudėti du tuple, išimti paskutinį narį iš sudėto tuple, išrikiuoti tuple, suskaičiuoti kiek yra kokios nors reikšmės įvesčių tuple, rasti didžiausią reikšmę."
   ]
  },
  {
   "cell_type": "code",
   "execution_count": 71,
   "metadata": {},
   "outputs": [
    {
     "name": "stdout",
     "output_type": "stream",
     "text": [
      "pirmas tuple: (1, 5, 20, 302, 155)\n",
      "antras tuple: (2, 200, 355, 11, 222, 36)\n",
      "sujungtas tuple: (1, 5, 20, 302, 155, 2, 200, 355, 11, 222, 36)\n",
      "tuple paverstas i sarasa: [1, 5, 20, 302, 155, 2, 200, 355, 11, 222, 36]\n",
      "pop funkcija: (1, 5, 20, 302, 155, 2, 200, 355, 11, 222)\n",
      "isrikiuota: (1, 2, 5, 11, 20, 155, 200, 222, 302, 355)\n",
      "prideta reiksme 355:  (1, 2, 5, 11, 20, 155, 200, 222, 302, 355, 355)\n",
      "count 355: 2\n",
      "max reiksme: 355\n"
     ]
    }
   ],
   "source": [
    "pirmas_tpl = (1,5,20,302,155)\n",
    "antras_tpl = (2,200,355,11,222,36)\n",
    "combined = pirmas_tpl + antras_tpl\n",
    "\n",
    "print('pirmas tuple:', pirmas_tpl)\n",
    "print('antras tuple:', antras_tpl)\n",
    "print('sujungtas tuple:', combined)\n",
    "\n",
    "temp_list = list(combined)\n",
    "print('tuple paverstas i sarasa:', temp_list)\n",
    "\n",
    "temp_list.pop()\n",
    "print('pop funkcija:', tuple(temp_list))\n",
    "\n",
    "temp_list.sort()\n",
    "print('isrikiuota:', tuple(temp_list))\n",
    "\n",
    "temp_list.append(355)\n",
    "print('prideta reiksme 355: ', tuple(temp_list))\n",
    "print('count 355:', tuple(temp_list).count(355))\n",
    "\n",
    "print('max reiksme:', max(combined))"
   ]
  },
  {
   "cell_type": "code",
   "execution_count": 78,
   "metadata": {},
   "outputs": [
    {
     "name": "stdout",
     "output_type": "stream",
     "text": [
      "2560.0 valandų: t.y. 3 mėnesiai, 16 dienų, 16.0 valandų.\n",
      "2560.0 valandų, arba: 0.29 metų, arba: 107 dienų, arba 9216000 sekundžių\n"
     ]
    }
   ],
   "source": [
    "moon = 384000\n",
    "speed = 150\n",
    "time = moon/speed\n",
    "print(time, \"valandų: t.y.\", int(time//(24*30)),'mėnesiai,',int(time%24), 'dienų,', time -(int(time//(24*30))*24*30 + int(time%24)*24), \"valandų.\")\n",
    "print(time, \"valandų, arba:\", format(time/(365*24), \".2f\"), \"metų, arba:\", format(time/24,\".0f\"), \"dienų, arba\", format(time*3600, \".0f\"), \"sekundžių\")"
   ]
  },
  {
   "cell_type": "markdown",
   "metadata": {},
   "source": [
    "# Trecios paskaitos namu darbai"
   ]
  },
  {
   "cell_type": "markdown",
   "metadata": {},
   "source": [
    "\n",
    "#### 1. Iš pirmų 100 skaičių, jeigu skaičius dalinasi iš 2 be liekanos, atspausdinkite ‘Fizz’, jeigu skaičius dalinasi iš 3 be liekanos atspausdinkite ‘Buzz’, jei skaičius dalinasi iš 2 ir 3 be liekanos, atspausdinkite ‘FizzBuzz’"
   ]
  },
  {
   "cell_type": "code",
   "execution_count": 84,
   "metadata": {},
   "outputs": [
    {
     "name": "stdout",
     "output_type": "stream",
     "text": [
      "2 Fizz\n",
      "3 Buzz\n",
      "4 Fizz\n",
      "6 FizzBuzz\n",
      "8 Fizz\n",
      "9 Buzz\n",
      "10 Fizz\n",
      "12 FizzBuzz\n",
      "14 Fizz\n",
      "15 Buzz\n",
      "16 Fizz\n",
      "18 FizzBuzz\n",
      "20 Fizz\n",
      "21 Buzz\n",
      "22 Fizz\n",
      "24 FizzBuzz\n",
      "26 Fizz\n",
      "27 Buzz\n",
      "28 Fizz\n",
      "30 FizzBuzz\n",
      "32 Fizz\n",
      "33 Buzz\n",
      "34 Fizz\n",
      "36 FizzBuzz\n",
      "38 Fizz\n",
      "39 Buzz\n",
      "40 Fizz\n",
      "42 FizzBuzz\n",
      "44 Fizz\n",
      "45 Buzz\n",
      "46 Fizz\n",
      "48 FizzBuzz\n",
      "50 Fizz\n",
      "51 Buzz\n",
      "52 Fizz\n",
      "54 FizzBuzz\n",
      "56 Fizz\n",
      "57 Buzz\n",
      "58 Fizz\n",
      "60 FizzBuzz\n",
      "62 Fizz\n",
      "63 Buzz\n",
      "64 Fizz\n",
      "66 FizzBuzz\n",
      "68 Fizz\n",
      "69 Buzz\n",
      "70 Fizz\n",
      "72 FizzBuzz\n",
      "74 Fizz\n",
      "75 Buzz\n",
      "76 Fizz\n",
      "78 FizzBuzz\n",
      "80 Fizz\n",
      "81 Buzz\n",
      "82 Fizz\n",
      "84 FizzBuzz\n",
      "86 Fizz\n",
      "87 Buzz\n",
      "88 Fizz\n",
      "90 FizzBuzz\n",
      "92 Fizz\n",
      "93 Buzz\n",
      "94 Fizz\n",
      "96 FizzBuzz\n",
      "98 Fizz\n",
      "99 Buzz\n",
      "100 Fizz\n",
      "Done\n"
     ]
    }
   ],
   "source": [
    "numbers = range(1,101)\n",
    "\n",
    "for number in numbers:\n",
    "    if number % 2 == 0 and number % 3 == 0:\n",
    "        print(number, 'FizzBuzz')\n",
    "    elif number % 2 == 0: \n",
    "        print(number, 'Fizz')\n",
    "    elif number % 3 == 0:\n",
    "        print(number, 'Buzz')\n",
    "print('Done')\n"
   ]
  },
  {
   "cell_type": "markdown",
   "metadata": {},
   "source": [
    "#### 2. Leiskite vartotojui pasirinkti skaičių, jeigu įvestas skaičius yra daugiau arba lygus 10, atspausdinkite visus skaičius kurie dalinasi iš 5 su liekana. Kitu atveju nieko nedaryti ir pranešti vartotojui apie tai."
   ]
  },
  {
   "cell_type": "code",
   "execution_count": 100,
   "metadata": {},
   "outputs": [
    {
     "name": "stdout",
     "output_type": "stream",
     "text": [
      "False\n"
     ]
    },
    {
     "data": {
      "text/plain": [
       "range(1, 10)"
      ]
     },
     "execution_count": 100,
     "metadata": {},
     "output_type": "execute_result"
    }
   ],
   "source": [
    "9 // 5 # sveikoji dalis\n",
    "9 % 5 # liekana\n",
    "print(10%5 != 0)\n",
    "range(1,10)"
   ]
  },
  {
   "cell_type": "code",
   "execution_count": 158,
   "metadata": {},
   "outputs": [
    {
     "name": "stdout",
     "output_type": "stream",
     "text": [
      "Number you selected is too low. Please input higher number\n",
      "20\n",
      "1\n",
      "2\n",
      "3\n",
      "4\n",
      "6\n",
      "7\n",
      "8\n",
      "9\n",
      "11\n",
      "12\n",
      "13\n",
      "14\n",
      "16\n",
      "17\n",
      "18\n",
      "19\n"
     ]
    }
   ],
   "source": [
    "input_number = 0\n",
    "\n",
    "while input_number < 10:\n",
    "\n",
    "    input_number = int(input('Input random number: '))\n",
    "    if input_number < 10:\n",
    "        print('Number you selected is too low. Please input higher number')\n",
    "    else:\n",
    "        print(input_number)\n",
    "\n",
    "if input_number >= 10:\n",
    "    for number in range(1,input_number+1):\n",
    "        if number % 5 != 0:\n",
    "            print(number)\n"
   ]
  },
  {
   "cell_type": "code",
   "execution_count": 118,
   "metadata": {},
   "outputs": [
    {
     "name": "stdout",
     "output_type": "stream",
     "text": [
      "16\n",
      "1\n",
      "2\n",
      "3\n",
      "4\n",
      "6\n",
      "7\n",
      "8\n",
      "9\n",
      "11\n",
      "12\n",
      "13\n",
      "14\n",
      "16\n"
     ]
    }
   ],
   "source": [
    "input_number = int(input('Input random number: '))\n",
    "print(input_number)\n",
    "\n",
    "if input_number >= 10:\n",
    "    for number in range(1,input_number+1):\n",
    "        if number % 5 != 0:\n",
    "            print(number)\n",
    "else:\n",
    "    print('The number you put is lower then 10 and nothing will happen!!')\n"
   ]
  },
  {
   "cell_type": "markdown",
   "metadata": {},
   "source": [
    "#### sudarykite visas įmanomas kombinacijas iš pateiktų 3 list'ų. Kiek yra iš viso kombinacijų? Išrikiuokite kombinacijų sąrašą nuo didžiausios iki mažiausios reikšmės (Gali tekti paieškoti informacijos kaip tai padaryti). <br>\n",
    "\n",
    "a = ['1','2','3','4','5']<br>\n",
    "b = ['labas', 'vakaras', 'kokia grazi diena', 'siandien uz lango', '10 laipsniu silumos']<br>\n",
    "c = ['100', '200', 40, 10]"
   ]
  },
  {
   "cell_type": "code",
   "execution_count": 149,
   "metadata": {},
   "outputs": [
    {
     "name": "stdout",
     "output_type": "stream",
     "text": [
      "[('1', 'labas', '100'), ('1', 'labas', '200'), ('1', 'labas', 40), ('1', 'labas', 10), ('1', 'vakaras', '100'), ('1', 'vakaras', '200'), ('1', 'vakaras', 40), ('1', 'vakaras', 10), ('1', 'kokia grazi diena', '100'), ('1', 'kokia grazi diena', '200')]\n"
     ]
    }
   ],
   "source": [
    "a_list = ['1','2','3','4','5']\n",
    "b_list = ['labas', 'vakaras', 'kokia grazi diena', 'siandien uz lango', '10 laipsniu silumos']\n",
    "c_list = ['100', '200', 40, 10]\n",
    "\n",
    "combined = []\n",
    "for a in a_list:\n",
    "    for b in b_list:\n",
    "        for c in c_list:\n",
    "            combined.append((a,b,c))\n",
    "print(combined[:10])"
   ]
  },
  {
   "cell_type": "code",
   "execution_count": 148,
   "metadata": {},
   "outputs": [
    {
     "name": "stdout",
     "output_type": "stream",
     "text": [
      "[('1', 'labas', '100'), ('1', 'labas', '200'), ('1', 'labas', 40), ('1', 'labas', 10), ('1', 'vakaras', '100'), ('1', 'vakaras', '200'), ('1', 'vakaras', 40), ('1', 'vakaras', 10), ('1', 'kokia grazi diena', '100'), ('1', 'kokia grazi diena', '200')]\n",
      "\n",
      "Kominaciju skaicius: 100\n",
      "\n",
      "Sorted List A based on index 0: [('5', 'labas', '100'), ('5', 'labas', '200'), ('5', 'labas', 40), ('5', 'labas', 10), ('5', 'vakaras', '100'), ('5', 'vakaras', '200'), ('5', 'vakaras', 40), ('5', 'vakaras', 10), ('5', 'kokia grazi diena', '100'), ('5', 'kokia grazi diena', '200')]\n",
      "\n",
      "Sorted List A based on index 1: [('1', 'vakaras', '100'), ('1', 'vakaras', '200'), ('1', 'vakaras', 40), ('1', 'vakaras', 10), ('2', 'vakaras', '100'), ('2', 'vakaras', '200'), ('2', 'vakaras', 40), ('2', 'vakaras', 10), ('3', 'vakaras', '100'), ('3', 'vakaras', '200')]\n",
      "\n"
     ]
    }
   ],
   "source": [
    "a_list = ['1','2','3','4','5']\n",
    "b_list = ['labas', 'vakaras', 'kokia grazi diena', 'siandien uz lango', '10 laipsniu silumos']\n",
    "c_list = ['100', '200', 40, 10]\n",
    "\n",
    "combined = [(a,b,c) for a in a_list for b in b_list for c in c_list]\n",
    "print(combined[:10])\n",
    "print('')\n",
    "print('Kominaciju skaicius:', len(combined))\n",
    "print('') \n",
    "print(\"Sorted List A based on index 0:\", (sorted(combined, key=lambda x:x[0], reverse = True)[:10]))   # sorted(List_name, key=lambda x:x[index_number])\n",
    "print('')\n",
    "print(\"Sorted List A based on index 1:\", (sorted(combined, key=lambda x:x[1], reverse = True)[:10]))\n",
    "print('')\n",
    "# print(\"Sorted List A based on index 2:\", (sorted(combined, key=lambda x:x[2])))"
   ]
  },
  {
   "cell_type": "markdown",
   "metadata": {},
   "source": [
    "#### Paskaičiuoti pelną pardavus visas prekes. Informacija apie kainą ir kiekius yra pateikiama  kaip dictionary, atsakymą suapvalinti iki 2 skaičių po kablelio.\n",
    "x = { \"cost_price\": 32.67, <br>\n",
    "         \"sell_price\": 45.00, <br>\n",
    "         “inventory\": 1212 }"
   ]
  },
  {
   "cell_type": "code",
   "execution_count": 156,
   "metadata": {},
   "outputs": [
    {
     "name": "stdout",
     "output_type": "stream",
     "text": [
      "14943.96\n"
     ]
    }
   ],
   "source": [
    "x = { \n",
    "    \"cost_price\": 32.67,\n",
    "    \"sell_price\": 45.00,\n",
    "    \"inventory\": 1212 }\n",
    "\n",
    "\n",
    "profit = x['inventory'] * x['sell_price'] - x['inventory'] * x['cost_price']\n",
    "print(round(profit, 2))"
   ]
  }
 ],
 "metadata": {
  "interpreter": {
   "hash": "f9978182bf679f263596547431d29e9cec7015cfc91316134a594a6696d7f386"
  },
  "kernelspec": {
   "display_name": "Python 3.8.5 32-bit",
   "language": "python",
   "name": "python3"
  },
  "language_info": {
   "codemirror_mode": {
    "name": "ipython",
    "version": 3
   },
   "file_extension": ".py",
   "mimetype": "text/x-python",
   "name": "python",
   "nbconvert_exporter": "python",
   "pygments_lexer": "ipython3",
   "version": "3.8.5"
  },
  "orig_nbformat": 4
 },
 "nbformat": 4,
 "nbformat_minor": 2
}
