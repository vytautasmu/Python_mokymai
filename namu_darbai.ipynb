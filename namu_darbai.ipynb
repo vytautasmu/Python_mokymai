{
 "cells": [
  {
   "cell_type": "markdown",
   "metadata": {},
   "source": [
    "# Pirmos paskaitos namu darbai\n"
   ]
  },
  {
   "cell_type": "markdown",
   "metadata": {},
   "source": [
    "1. Atspausdinkite savo vardą ir pavardę viena print() funkcija. Panaudokite du kintamuosius, panaudokite viengubas ir dvigubas kabutes."
   ]
  },
  {
   "cell_type": "code",
   "execution_count": 12,
   "metadata": {},
   "outputs": [
    {
     "name": "stdout",
     "output_type": "stream",
     "text": [
      "Mano vardas : Vytautas, o pavarde : Mudenas\n"
     ]
    }
   ],
   "source": [
    "vardas = 'Vytautas'\n",
    "pavarde = \"Mudenas\"\n",
    "print(f'Mano vardas : {vardas}, o pavarde : {pavarde}')"
   ]
  },
  {
   "cell_type": "markdown",
   "metadata": {},
   "source": [
    "2. Iš stringo 'Python makes me really really happy!' . <br>\n",
    "    2.1 Į ekraną išveskite string’ą tik didžiosiomis raidėmis <br>\n",
    "    2.2 Pakeiskite žodį Python į PyThOn naudodami replace() "
   ]
  },
  {
   "cell_type": "code",
   "execution_count": 13,
   "metadata": {},
   "outputs": [
    {
     "name": "stdout",
     "output_type": "stream",
     "text": [
      "Python makes me really really happy!\n",
      "PYTHON MAKES ME REALLY REALLY HAPPY!\n",
      "PyThOn makes me really really happy!\n"
     ]
    }
   ],
   "source": [
    "eilute = 'Python makes me really really happy!'\n",
    "print(eilute)\n",
    "print(eilute.upper())\n",
    "print(eilute.replace('Python', 'PyThOn'))"
   ]
  },
  {
   "cell_type": "markdown",
   "metadata": {},
   "source": [
    "3. Iš stringo ‘Hello World, I am happy to learn Python!’ <br>\n",
    "    3.1 Atspausdinkite ‘happy’ naudodami slice sintaksę. Naudokite  .index(‘happy’), len(‘happy’) tam <br>\n",
    "    3.2 Atspausdinkite ‘to’ naudodami slice sintaksę <br>\n",
    "    3.3 Koks šio string ilgis? "
   ]
  },
  {
   "cell_type": "code",
   "execution_count": 39,
   "metadata": {},
   "outputs": [
    {
     "name": "stdout",
     "output_type": "stream",
     "text": [
      "Hello World, I am happy to learn Python!\n",
      "happy\n",
      "to\n",
      "40\n"
     ]
    }
   ],
   "source": [
    "eilute_2 = 'Hello World, I am happy to learn Python!'\n",
    "print(eilute_2)\n",
    "\n",
    "print ( eilute_2 [ eilute_2.index( 'happy' ):eilute_2.index( 'happy' ) + len( 'happy' ) ] )\n",
    "print ( eilute_2 [ eilute_2.index( 'to' ):eilute_2.index( 'to' ) + len( 'to' ) ] )\n",
    "print(len(eilute_2))\n",
    "\n"
   ]
  },
  {
   "cell_type": "markdown",
   "metadata": {},
   "source": [
    "# Antros paskaitos namu darbai"
   ]
  },
  {
   "cell_type": "markdown",
   "metadata": {},
   "source": [
    "1. Jeigu norėtume nuvažiuoti iki mėnulio (384000 km) automobiliu, kurio greitis 150km/h, kiek  valandų. N.d:metų, mėnesių, dienų, sekundžių tai užtruktų?\n"
   ]
  },
  {
   "cell_type": "code",
   "execution_count": 53,
   "metadata": {},
   "outputs": [
    {
     "name": "stdout",
     "output_type": "stream",
     "text": [
      "Atstumas iki saules yra 390.625 kartu didnesnis nei iki menulio.\n",
      "Iki menulio nuvaziuoti automobiliu, kurio greitis 150km/h uztruktu: \n",
      " 2560.0 - valandu \n",
      " 0.29 - metu \n",
      " 106.0 - dienas \n",
      " 9216000.0 - sekundziu\n"
     ]
    }
   ],
   "source": [
    "ats_men = 384000\n",
    "ats_saul = 150000000\n",
    "greitis_kmh = 150\n",
    "\n",
    "kartai = ats_saul / ats_men\n",
    "valandos = ats_men / greitis_kmh\n",
    "sekundes = valandos * 3600\n",
    "dienos = valandos // 24\n",
    "metai = round(((dienos) / 365),2)\n",
    "\n",
    "\n",
    "print(f'Atstumas iki saules yra {kartai} kartu didnesnis nei iki menulio.')\n",
    "print(f'Iki menulio nuvaziuoti automobiliu, kurio greitis 150km/h uztruktu: \\n {valandos} - valandu \\n {metai} - metu \\n {dienos} - dienas \\n {sekundes} - sekundziu')"
   ]
  },
  {
   "cell_type": "markdown",
   "metadata": {},
   "source": [
    "2. Kiek dienų praėjo nuo jūsų gimimo dienos?"
   ]
  },
  {
   "cell_type": "code",
   "execution_count": 46,
   "metadata": {},
   "outputs": [
    {
     "name": "stdout",
     "output_type": "stream",
     "text": [
      "nuo mano gimimo dienos praejo 11362 dienos\n"
     ]
    }
   ],
   "source": [
    "import datetime\n",
    "\n",
    "birth_date = datetime.date(1991,1,12)\n",
    "todays_date = datetime.date.today()\n",
    "print(f'nuo mano gimimo dienos praejo {(todays_date-birth_date).days} dienos')"
   ]
  },
  {
   "cell_type": "markdown",
   "metadata": {},
   "source": [
    "3. Sudėti du tuple, išimti paskutinį narį iš sudėto tuple, išrikiuoti tuple, suskaičiuoti kiek yra kokios nors reikšmės įvesčių tuple, rasti didžiausią reikšmę."
   ]
  },
  {
   "cell_type": "code",
   "execution_count": 71,
   "metadata": {},
   "outputs": [
    {
     "name": "stdout",
     "output_type": "stream",
     "text": [
      "pirmas tuple: (1, 5, 20, 302, 155)\n",
      "antras tuple: (2, 200, 355, 11, 222, 36)\n",
      "sujungtas tuple: (1, 5, 20, 302, 155, 2, 200, 355, 11, 222, 36)\n",
      "tuple paverstas i sarasa: [1, 5, 20, 302, 155, 2, 200, 355, 11, 222, 36]\n",
      "pop funkcija: (1, 5, 20, 302, 155, 2, 200, 355, 11, 222)\n",
      "isrikiuota: (1, 2, 5, 11, 20, 155, 200, 222, 302, 355)\n",
      "prideta reiksme 355:  (1, 2, 5, 11, 20, 155, 200, 222, 302, 355, 355)\n",
      "count 355: 2\n",
      "max reiksme: 355\n"
     ]
    }
   ],
   "source": [
    "pirmas_tpl = (1,5,20,302,155)\n",
    "antras_tpl = (2,200,355,11,222,36)\n",
    "combined = pirmas_tpl + antras_tpl\n",
    "\n",
    "print('pirmas tuple:', pirmas_tpl)\n",
    "print('antras tuple:', antras_tpl)\n",
    "print('sujungtas tuple:', combined)\n",
    "\n",
    "temp_list = list(combined)\n",
    "print('tuple paverstas i sarasa:', temp_list)\n",
    "\n",
    "temp_list.pop()\n",
    "print('pop funkcija:', tuple(temp_list))\n",
    "\n",
    "temp_list.sort()\n",
    "print('isrikiuota:', tuple(temp_list))\n",
    "\n",
    "temp_list.append(355)\n",
    "print('prideta reiksme 355: ', tuple(temp_list))\n",
    "print('count 355:', tuple(temp_list).count(355))\n",
    "\n",
    "print('max reiksme:', max(combined))"
   ]
  }
 ],
 "metadata": {
  "interpreter": {
   "hash": "f9978182bf679f263596547431d29e9cec7015cfc91316134a594a6696d7f386"
  },
  "kernelspec": {
   "display_name": "Python 3.8.5 32-bit",
   "language": "python",
   "name": "python3"
  },
  "language_info": {
   "codemirror_mode": {
    "name": "ipython",
    "version": 3
   },
   "file_extension": ".py",
   "mimetype": "text/x-python",
   "name": "python",
   "nbconvert_exporter": "python",
   "pygments_lexer": "ipython3",
   "version": "3.8.5"
  },
  "orig_nbformat": 4
 },
 "nbformat": 4,
 "nbformat_minor": 2
}
