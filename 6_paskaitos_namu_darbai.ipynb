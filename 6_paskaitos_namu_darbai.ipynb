{
 "cells": [
  {
   "cell_type": "markdown",
   "metadata": {},
   "source": [
    "# Namų darbai 6. Numpy"
   ]
  },
  {
   "cell_type": "code",
   "execution_count": 33,
   "metadata": {},
   "outputs": [
    {
     "name": "stdout",
     "output_type": "stream",
     "text": [
      "[[5 4 3]\n",
      " [3 2 1]\n",
      " [1 0 6]\n",
      " [6 5 4]]\n"
     ]
    }
   ],
   "source": [
    "# 1. Sukurkite tokį ndarray ir išsaugokite kintamąjame arr:\n",
    "# [[5 4 3]\n",
    "#  [3 2 1]\n",
    "#  [1 0 6]\n",
    "#  [6 5 4]]\n",
    "\n",
    "\n",
    "import numpy as np\n",
    "\n",
    "arr = np.array([\n",
    "    [5,4,3],\n",
    "    [3,2,1],\n",
    "    [1,0,6],\n",
    "    [6,5,4]\n",
    "]\n",
    ")\n",
    "\n",
    "print(arr)\n"
   ]
  },
  {
   "cell_type": "code",
   "execution_count": 4,
   "metadata": {},
   "outputs": [
    {
     "data": {
      "text/plain": [
       "numpy.ndarray"
      ]
     },
     "execution_count": 4,
     "metadata": {},
     "output_type": "execute_result"
    }
   ],
   "source": [
    "# 2. Kiek dimensijų turi arr? Kokios jos?\n",
    "# arr = [[5 4 3]\n",
    "#        [3 2 1]\n",
    "#        [1 0 6]\n",
    "#        [6 5 4]]"
   ]
  },
  {
   "cell_type": "code",
   "execution_count": 34,
   "metadata": {},
   "outputs": [
    {
     "data": {
      "text/plain": [
       "(4, 3)"
      ]
     },
     "execution_count": 34,
     "metadata": {},
     "output_type": "execute_result"
    }
   ],
   "source": [
    "arr.shape"
   ]
  },
  {
   "cell_type": "code",
   "execution_count": null,
   "metadata": {},
   "outputs": [],
   "source": [
    "# 3. Atspausdinkite 3-ios eilutės antrąjį narį\n",
    "# arr = [[5 4 3]\n",
    "#        [3 2 1]\n",
    "#        [1 0 6]\n",
    "#        [6 5 4]]"
   ]
  },
  {
   "cell_type": "code",
   "execution_count": 35,
   "metadata": {},
   "outputs": [
    {
     "data": {
      "text/plain": [
       "0"
      ]
     },
     "execution_count": 35,
     "metadata": {},
     "output_type": "execute_result"
    }
   ],
   "source": [
    "arr[2,1] # pirmas eilute, antras stulpelis"
   ]
  },
  {
   "cell_type": "code",
   "execution_count": null,
   "metadata": {},
   "outputs": [],
   "source": [
    "# 4. Atspausdinkite 2-os eilutės pirmą ir antrą narius\n",
    "# arr = [[5 4 3]\n",
    "#        [3 2 1]\n",
    "#        [1 0 6]\n",
    "#        [6 5 4]]"
   ]
  },
  {
   "cell_type": "code",
   "execution_count": 36,
   "metadata": {},
   "outputs": [
    {
     "data": {
      "text/plain": [
       "array([3, 2])"
      ]
     },
     "execution_count": 36,
     "metadata": {},
     "output_type": "execute_result"
    }
   ],
   "source": [
    "arr[1,:2]"
   ]
  },
  {
   "cell_type": "code",
   "execution_count": null,
   "metadata": {},
   "outputs": [],
   "source": [
    "# 5. Atspausdinkite 3-ios ir 4 eilučių antrą ir trečią narius (t.y. iš viso 4 skaičius iš dešiniojo apatinio kampo)\n",
    "# arr = [[5 4 3]\n",
    "#        [3 2 1]\n",
    "#        [1 0 6]\n",
    "#        [6 5 4]]"
   ]
  },
  {
   "cell_type": "code",
   "execution_count": 37,
   "metadata": {},
   "outputs": [
    {
     "data": {
      "text/plain": [
       "array([[0, 6],\n",
       "       [5, 4]])"
      ]
     },
     "execution_count": 37,
     "metadata": {},
     "output_type": "execute_result"
    }
   ],
   "source": [
    "arr[2:,1:]"
   ]
  },
  {
   "cell_type": "code",
   "execution_count": null,
   "metadata": {},
   "outputs": [],
   "source": [
    "#6. Naudodami reshape() metodą pakeiskite arr taip, kad jo dimensijos būtų (6, 2)\n",
    "# arr = [[5, 4, 3],\n",
    "#        [3, 2, 1],\n",
    "#        [1, 0, 6],\n",
    "#        [6, 5, 4]]\n"
   ]
  },
  {
   "cell_type": "code",
   "execution_count": 38,
   "metadata": {},
   "outputs": [
    {
     "name": "stdout",
     "output_type": "stream",
     "text": [
      "[[5 4]\n",
      " [3 3]\n",
      " [2 1]\n",
      " [1 0]\n",
      " [6 6]\n",
      " [5 4]]\n"
     ]
    }
   ],
   "source": [
    "arr = arr.reshape(6,2)\n",
    "print(arr)"
   ]
  },
  {
   "cell_type": "code",
   "execution_count": null,
   "metadata": {},
   "outputs": [],
   "source": [
    "# 7. Transponuokite arr (po transponavimo shape turi būti (2, 6))\n",
    "# arr = [[5, 4, 3],\n",
    "#        [3, 2, 1],\n",
    "#        [1, 0, 6],\n",
    "#        [6, 5, 4]]"
   ]
  },
  {
   "cell_type": "code",
   "execution_count": 39,
   "metadata": {},
   "outputs": [
    {
     "name": "stdout",
     "output_type": "stream",
     "text": [
      "[[5 3 2 1 6 5]\n",
      " [4 3 1 0 6 4]]\n"
     ]
    },
    {
     "data": {
      "text/plain": [
       "(2, 6)"
      ]
     },
     "execution_count": 39,
     "metadata": {},
     "output_type": "execute_result"
    }
   ],
   "source": [
    "arr = arr.T\n",
    "print(arr)\n",
    "arr.shape"
   ]
  },
  {
   "cell_type": "code",
   "execution_count": null,
   "metadata": {},
   "outputs": [],
   "source": [
    "# 8. Padauginkite visus šio array skaičius iš 8 ir atimkite iš visų 30, išsaugokite rezultatą kintamąjame arr_2\n",
    "# arr = [[5 3 2 1 6 5]\n",
    "#        [4 3 1 0 6 4]]\n"
   ]
  },
  {
   "cell_type": "code",
   "execution_count": 40,
   "metadata": {},
   "outputs": [
    {
     "name": "stdout",
     "output_type": "stream",
     "text": [
      "[[ 10  -6 -14 -22  18  10]\n",
      " [  2  -6 -22 -30  18   2]]\n"
     ]
    }
   ],
   "source": [
    "arr_2 = arr * 8 - 30\n",
    "print(arr_2)"
   ]
  },
  {
   "cell_type": "code",
   "execution_count": null,
   "metadata": {},
   "outputs": [],
   "source": [
    "# 9. Priskirkite visus neigiamus arr_2 narius kintamąjam arr_2_neg\n",
    "# arr_2 = [[ 10  -6 -14 -22  18  10]\n",
    "#        [  2  -6 -22 -30  18   2]]"
   ]
  },
  {
   "cell_type": "code",
   "execution_count": 43,
   "metadata": {},
   "outputs": [
    {
     "name": "stdout",
     "output_type": "stream",
     "text": [
      "[ -6 -14 -22  -6 -22 -30]\n"
     ]
    }
   ],
   "source": [
    "arr_2_neg = arr_2[arr_2 < 0]\n",
    "print(arr_2_neg)"
   ]
  },
  {
   "cell_type": "code",
   "execution_count": null,
   "metadata": {},
   "outputs": [],
   "source": [
    "# 10. Atspausdinkite arr_2_neg narių sumą ir sandaugą\n",
    "# arr_2_neg = [ -6 -14 -22  -6 -22 -30]"
   ]
  },
  {
   "cell_type": "code",
   "execution_count": 52,
   "metadata": {},
   "outputs": [
    {
     "name": "stdout",
     "output_type": "stream",
     "text": [
      "suma: -100\n",
      "saundauga: 7318080\n"
     ]
    }
   ],
   "source": [
    "print(f'suma: {arr_2_neg.sum()}')\n",
    "print(f'saundauga: {arr_2_neg.prod()}')"
   ]
  },
  {
   "cell_type": "code",
   "execution_count": null,
   "metadata": {},
   "outputs": [],
   "source": [
    "# 11. Atspausdinkite arr_2_neg medianą\n",
    "# arr_2_neg = [ -6 -14 -22  -6 -22 -30]  -30 -22 -22 -14 -6 -6"
   ]
  },
  {
   "cell_type": "code",
   "execution_count": 55,
   "metadata": {},
   "outputs": [
    {
     "name": "stdout",
     "output_type": "stream",
     "text": [
      "mediana: -18.0\n"
     ]
    }
   ],
   "source": [
    "print(f'mediana: {np.median(arr_2_neg)}')"
   ]
  }
 ],
 "metadata": {
  "interpreter": {
   "hash": "f9978182bf679f263596547431d29e9cec7015cfc91316134a594a6696d7f386"
  },
  "kernelspec": {
   "display_name": "Python 3.8.5 32-bit",
   "language": "python",
   "name": "python3"
  },
  "language_info": {
   "codemirror_mode": {
    "name": "ipython",
    "version": 3
   },
   "file_extension": ".py",
   "mimetype": "text/x-python",
   "name": "python",
   "nbconvert_exporter": "python",
   "pygments_lexer": "ipython3",
   "version": "3.8.5"
  },
  "orig_nbformat": 4
 },
 "nbformat": 4,
 "nbformat_minor": 2
}
