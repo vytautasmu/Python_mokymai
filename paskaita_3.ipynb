{
 "cells": [
  {
   "cell_type": "code",
   "execution_count": 6,
   "metadata": {},
   "outputs": [
    {
     "name": "stdout",
     "output_type": "stream",
     "text": [
      "1275\n"
     ]
    }
   ],
   "source": [
    "suma = 0\n",
    "for skaicius in range(1,51):\n",
    "    suma += skaicius\n",
    "print(suma)\n"
   ]
  },
  {
   "cell_type": "code",
   "execution_count": 9,
   "metadata": {},
   "outputs": [
    {
     "name": "stdout",
     "output_type": "stream",
     "text": [
      "5 * 1 = 5\n",
      "5 * 2 = 10\n",
      "5 * 3 = 15\n",
      "5 * 4 = 20\n",
      "5 * 5 = 25\n",
      "5 * 6 = 30\n",
      "5 * 7 = 35\n",
      "5 * 8 = 40\n",
      "5 * 9 = 45\n",
      "5 * 10 = 50\n"
     ]
    }
   ],
   "source": [
    "input_number = int(input('Iveskite skaiciu: '))\n",
    "\n",
    "for number in range(1,11):\n",
    "    print(f'{input_number} * {number} = {input_number * number}')"
   ]
  },
  {
   "cell_type": "code",
   "execution_count": 8,
   "metadata": {},
   "outputs": [
    {
     "name": "stdout",
     "output_type": "stream",
     "text": [
      "[('Pirmadienis', 10), ('Pirmadienis', 11), ('Pirmadienis', 12), ('Pirmadienis', 13), ('Pirmadienis', 14), ('Pirmadienis', 15), ('Pirmadienis', 16), ('Pirmadienis', 17), ('Pirmadienis', 18), ('Pirmadienis', 19), ('Antradienis', 10), ('Antradienis', 11), ('Antradienis', 12), ('Antradienis', 13), ('Antradienis', 14), ('Antradienis', 15), ('Antradienis', 16), ('Antradienis', 17), ('Antradienis', 18), ('Antradienis', 19), ('Treciadienis', 10), ('Treciadienis', 11), ('Treciadienis', 12), ('Treciadienis', 13), ('Treciadienis', 14), ('Treciadienis', 15), ('Treciadienis', 16), ('Treciadienis', 17), ('Treciadienis', 18), ('Treciadienis', 19), ('Ketvirtadienis', 10), ('Ketvirtadienis', 11), ('Ketvirtadienis', 12), ('Ketvirtadienis', 13), ('Ketvirtadienis', 14), ('Ketvirtadienis', 15), ('Ketvirtadienis', 16), ('Ketvirtadienis', 17), ('Ketvirtadienis', 18), ('Ketvirtadienis', 19), ('Penktadienis', 10), ('Penktadienis', 11), ('Penktadienis', 12), ('Penktadienis', 13), ('Penktadienis', 14), ('Penktadienis', 15), ('Penktadienis', 16), ('Penktadienis', 17), ('Penktadienis', 18), ('Penktadienis', 19), ('Sestadienis', 10), ('Sestadienis', 11), ('Sestadienis', 12), ('Sestadienis', 13), ('Sestadienis', 14), ('Sestadienis', 15), ('Sestadienis', 16), ('Sestadienis', 17), ('Sestadienis', 18), ('Sestadienis', 19), ('Sekmadienis', 10), ('Sekmadienis', 11), ('Sekmadienis', 12), ('Sekmadienis', 13), ('Sekmadienis', 14), ('Sekmadienis', 15), ('Sekmadienis', 16), ('Sekmadienis', 17), ('Sekmadienis', 18), ('Sekmadienis', 19)]\n"
     ]
    }
   ],
   "source": [
    "dienos = ('Pirmadienis', 'Antradienis', 'Treciadienis', 'Ketvirtadienis', 'Penktadienis', 'Sestadienis' , 'Sekmadienis')\n",
    "valandos = [10, 11, 12, 13, 14, 15, 16, 17, 18, 19]\n",
    "\n",
    "\n",
    "kombinacijos = []\n",
    "for diena in dienos:\n",
    "    for valanda in valandos:\n",
    "        kombinacijos.append((diena,valanda))\n",
    "       # print(diena, valanda)\n",
    "print(kombinacijos)\n"
   ]
  },
  {
   "cell_type": "code",
   "execution_count": 10,
   "metadata": {},
   "outputs": [
    {
     "name": "stdout",
     "output_type": "stream",
     "text": [
      "3\n",
      "6\n",
      "9\n",
      "12\n",
      "15\n",
      "18\n"
     ]
    }
   ],
   "source": [
    "for number in range(1,21):\n",
    "    if number % 3 == 0:\n",
    "        print(number)"
   ]
  },
  {
   "cell_type": "code",
   "execution_count": 12,
   "metadata": {},
   "outputs": [
    {
     "name": "stdout",
     "output_type": "stream",
     "text": [
      "650\n"
     ]
    }
   ],
   "source": [
    "suma = 0\n",
    "for skaicius in range(1,51):\n",
    "    if (suma + skaicius) % 2 == 0:\n",
    "        suma += skaicius\n",
    "print(suma)\n"
   ]
  },
  {
   "cell_type": "code",
   "execution_count": 16,
   "metadata": {},
   "outputs": [
    {
     "name": "stdout",
     "output_type": "stream",
     "text": [
      "6\n",
      "skaicius pakeltas kvadratu yra lyginis\n"
     ]
    }
   ],
   "source": [
    "input_number = int(input('Iveskite skaiciu: '))\n",
    "print(input_number)\n",
    "\n",
    "if (input_number ** 2) % 2 != 0:\n",
    "    for number in range(1,11):\n",
    "        print(f'{input_number} * {number} = {input_number * number}')\n",
    "else:\n",
    "    print('skaicius pakeltas kvadratu yra lyginis')"
   ]
  },
  {
   "cell_type": "code",
   "execution_count": 18,
   "metadata": {},
   "outputs": [
    {
     "name": "stdout",
     "output_type": "stream",
     "text": [
      "[('Pirmadienis', 10), ('Pirmadienis', 11), ('Pirmadienis', 12), ('Pirmadienis', 13), ('Pirmadienis', 14), ('Pirmadienis', 15), ('Pirmadienis', 16), ('Pirmadienis', 17), ('Pirmadienis', 18), ('Pirmadienis', 19), ('Treciadienis', 10), ('Treciadienis', 11), ('Treciadienis', 12), ('Treciadienis', 13), ('Treciadienis', 14), ('Treciadienis', 15), ('Treciadienis', 16), ('Treciadienis', 17), ('Treciadienis', 18), ('Treciadienis', 19)]\n"
     ]
    }
   ],
   "source": [
    "dienos = ('Pirmadienis', 'Antradienis', 'Treciadienis', 'Ketvirtadienis', 'Penktadienis', 'Sestadienis' , 'Sekmadienis')\n",
    "valandos = [10, 11, 12, 13, 14, 15, 16, 17, 18, 19]\n",
    "\n",
    "\n",
    "kombinacijos = []\n",
    "for diena in dienos:\n",
    "        if diena in ['Pirmadienis', 'Treciadienis']:\n",
    "            for valanda in valandos:\n",
    "                kombinacijos.append((diena,valanda))\n",
    "        # print(diena, valanda)\n",
    "print(kombinacijos)\n"
   ]
  }
 ],
 "metadata": {
  "interpreter": {
   "hash": "f9978182bf679f263596547431d29e9cec7015cfc91316134a594a6696d7f386"
  },
  "kernelspec": {
   "display_name": "Python 3.8.5 32-bit",
   "language": "python",
   "name": "python3"
  },
  "language_info": {
   "codemirror_mode": {
    "name": "ipython",
    "version": 3
   },
   "file_extension": ".py",
   "mimetype": "text/x-python",
   "name": "python",
   "nbconvert_exporter": "python",
   "pygments_lexer": "ipython3",
   "version": "3.8.5"
  },
  "orig_nbformat": 4
 },
 "nbformat": 4,
 "nbformat_minor": 2
}
