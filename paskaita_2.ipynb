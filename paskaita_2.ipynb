{
 "cells": [
  {
   "cell_type": "code",
   "execution_count": 10,
   "metadata": {},
   "outputs": [
    {
     "name": "stdout",
     "output_type": "stream",
     "text": [
      "Atstumas iki saules yra 390.625 kartu didnesnis nei iki menulio.\n",
      "Iki menulio nuvaziuoti automobiliu, kurio greitis 150km/h uztruktu 2560.0 - valandu, 0.29223744292237447 - metu, 106.66666666666667 - dienu, 9216000.0 - sekundziu\n"
     ]
    }
   ],
   "source": [
    "ats_men = 384000\n",
    "ats_saul = 150000000\n",
    "greitis_kmh = 150\n",
    "\n",
    "\n",
    "print(f'Atstumas iki saules yra {ats_saul / ats_men} kartu didnesnis nei iki menulio.')\n",
    "print(f'Iki menulio nuvaziuoti automobiliu, kurio greitis 150km/h uztruktu {ats_men/greitis_kmh} - valandu, {ats_men/greitis_kmh/24/365} - metu, {ats_men/greitis_kmh/24} - dienu, {ats_men/greitis_kmh*3600} - sekundziu')"
   ]
  },
  {
   "cell_type": "code",
   "execution_count": 11,
   "metadata": {},
   "outputs": [
    {
     "ename": "TypeError",
     "evalue": "count() takes exactly one argument (0 given)",
     "output_type": "error",
     "traceback": [
      "\u001b[1;31m---------------------------------------------------------------------------\u001b[0m",
      "\u001b[1;31mTypeError\u001b[0m                                 Traceback (most recent call last)",
      "\u001b[1;32mc:\\Users\\vytau\\Documents\\Python_mokymai\\paskaita_2.ipynb Cell 2'\u001b[0m in \u001b[0;36m<module>\u001b[1;34m\u001b[0m\n\u001b[0;32m      <a href='vscode-notebook-cell:/c%3A/Users/vytau/Documents/Python_mokymai/paskaita_2.ipynb#ch0000001?line=0'>1</a>\u001b[0m cities \u001b[39m=\u001b[39m [\u001b[39m'\u001b[39m\u001b[39mVilnius\u001b[39m\u001b[39m'\u001b[39m, \u001b[39m'\u001b[39m\u001b[39mKaunas\u001b[39m\u001b[39m'\u001b[39m, \u001b[39m'\u001b[39m\u001b[39mKlaipeda\u001b[39m\u001b[39m'\u001b[39m, \u001b[39m'\u001b[39m\u001b[39mPanevezys\u001b[39m\u001b[39m'\u001b[39m]\n\u001b[1;32m----> <a href='vscode-notebook-cell:/c%3A/Users/vytau/Documents/Python_mokymai/paskaita_2.ipynb#ch0000001?line=1'>2</a>\u001b[0m cities\u001b[39m.\u001b[39;49mcount()\n",
      "\u001b[1;31mTypeError\u001b[0m: count() takes exactly one argument (0 given)"
     ]
    }
   ],
   "source": [
    "cities = ['Vilnius', 'Kaunas', 'Klaipeda', 'Panevezys']"
   ]
  }
 ],
 "metadata": {
  "interpreter": {
   "hash": "f9978182bf679f263596547431d29e9cec7015cfc91316134a594a6696d7f386"
  },
  "kernelspec": {
   "display_name": "Python 3.8.5 32-bit",
   "language": "python",
   "name": "python3"
  },
  "language_info": {
   "codemirror_mode": {
    "name": "ipython",
    "version": 3
   },
   "file_extension": ".py",
   "mimetype": "text/x-python",
   "name": "python",
   "nbconvert_exporter": "python",
   "pygments_lexer": "ipython3",
   "version": "3.8.5"
  },
  "orig_nbformat": 4
 },
 "nbformat": 4,
 "nbformat_minor": 2
}
