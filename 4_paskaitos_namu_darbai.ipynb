{
 "cells": [
  {
   "cell_type": "markdown",
   "metadata": {},
   "source": [
    "# 4 paskaitos namu darbai"
   ]
  },
  {
   "cell_type": "markdown",
   "metadata": {},
   "source": [
    "### Rasti pasikartojančius elementus tarp dviejų list.\n",
    "\n",
    "\n",
    "##### a = [1,2,3,4,5,6,7,8,9,15]\n",
    "##### b = [3,8,9,11,15]\n",
    "##### Gauti rezultatą c = [3,8,9,15] nes šie skaičiai pasikartoja abiejuose list."
   ]
  },
  {
   "cell_type": "code",
   "execution_count": 17,
   "metadata": {},
   "outputs": [
    {
     "name": "stdout",
     "output_type": "stream",
     "text": [
      "[8, 9, 3, 15]\n"
     ]
    }
   ],
   "source": [
    "a = [1,2,3,4,5,6,7,8,9,15]\n",
    "b = [3,8,9,11,15]\n",
    "\n",
    "a_set = set(a)\n",
    "b_set = set(b)\n",
    "\n",
    "c = list(a_set.intersection(b_set))\n",
    "\n",
    "print(c)"
   ]
  },
  {
   "cell_type": "markdown",
   "metadata": {},
   "source": [
    "### 2. Išfiltruoti unikalius teigiamus numerius iš sąrašo.\n",
    "\n",
    "##### x = [1, 5, 1, 2, 8, -9, 10, 1, -8, -900, 14, 5, -8, 2, 1, -20, 900, 800, -6, -8, 12, 1]"
   ]
  },
  {
   "cell_type": "code",
   "execution_count": null,
   "metadata": {},
   "outputs": [],
   "source": []
  },
  {
   "cell_type": "code",
   "execution_count": 2,
   "metadata": {},
   "outputs": [
    {
     "name": "stdout",
     "output_type": "stream",
     "text": [
      "{800, 1, 2, 900, 5, 8, 10, -20, 12, 14, -9, -8, -6, -900}\n",
      "[800, 1, 2, 900, 5, 8, 10, 12, 14]\n"
     ]
    }
   ],
   "source": [
    "x = [1, 5, 1, 2, 8, -9, 10, 1, -8, -900, 14, 5, -8, 2, 1, -20, 900, 800, -6, -8, 12, 1]\n",
    "\n",
    "x_set = set(x)\n",
    "\n",
    "print(x_set)\n",
    "positives = [a for a in x_set if a > 0 ]\n",
    "\n",
    "print(positives)\n",
    "\n",
    "# newlist = filter(lambda a: a > 0, [-1,2,3])\n",
    "\n",
    "# print(newlist)\n"
   ]
  },
  {
   "cell_type": "markdown",
   "metadata": {},
   "source": [
    "### 3. Parašykite funkciją, kuri priims string tipo kintamąjį, gražinkite kiek tame string'ę yra raidžių, skaičių, skyrybos (specialių) ženklų ir tarpų.\n",
    "##### for loop kiekvienam simboliui string'e\n",
    "##### ar simbolis yra skaičius/raidė/tarpas/nei tas nei tas +=1\n",
    "##### gražinsime f stringą - “raidžiu yra: {raidziu_suma}…”\n"
   ]
  },
  {
   "cell_type": "code",
   "execution_count": 18,
   "metadata": {},
   "outputs": [],
   "source": [
    "def stringas(x):\n",
    "    my_dict = {'number_count' : 0, 'letter_count' : 0, 'space_count' : 0, 'special_char_count':0}\n",
    "    for x_n in x:\n",
    "        if x_n.isdigit():\n",
    "            my_dict['number_count'] += 1\n",
    "        elif x_n.isalpha():\n",
    "            my_dict['letter_count'] += 1\n",
    "        elif x_n == ' ':\n",
    "            my_dict['space_count'] += 1\n",
    "        else:\n",
    "            my_dict['special_char_count'] += 1\n",
    "    return print(f'Letter count: {my_dict[\"letter_count\"]} \\nNumber count: {my_dict[\"number_count\"]}\\nSpaces count: {my_dict[\"space_count\"]}\\nSpecial char count: {my_dict[\"special_char_count\"]}')\n",
    "\n"
   ]
  },
  {
   "cell_type": "code",
   "execution_count": 20,
   "metadata": {},
   "outputs": [
    {
     "name": "stdout",
     "output_type": "stream",
     "text": [
      "Letter count: 42 \n",
      "Number count: 6\n",
      "Spaces count: 9\n",
      "Special char count: 5\n"
     ]
    }
   ],
   "source": [
    "stringas('l@bas, kaip sekasi? Siandien yra vasario 28 diena 2022 metai!!')"
   ]
  },
  {
   "cell_type": "markdown",
   "metadata": {},
   "source": [
    "### 4. Parašyti funkciją, kuri priima vieną list tipo kintamąjį, funkcija grąžina skirtumą tarp didžiausio skaičiaus ir mažiausio skaičiaus.\n",
    "##### myFunction([1, 5, 6, 10, 4]) ->  9 ( nes 10 - 1)"
   ]
  },
  {
   "cell_type": "code",
   "execution_count": 7,
   "metadata": {},
   "outputs": [],
   "source": [
    "def dif(*args):\n",
    "    print(max(*args) - min(*args))"
   ]
  },
  {
   "cell_type": "code",
   "execution_count": 21,
   "metadata": {},
   "outputs": [
    {
     "name": "stdout",
     "output_type": "stream",
     "text": [
      "9\n"
     ]
    }
   ],
   "source": [
    "dif([1,5,6,10,4])"
   ]
  },
  {
   "cell_type": "markdown",
   "metadata": {},
   "source": [
    "### 5. Parašykite funkciją, kuri priims listą ir patikrins ar listo narys n+1 yra 1 didesnis nei n, jeigu visi listo nariai einantys vienas po kito yra didesni per 1, vadinasi anomalijos nėra, jei nors 1 narys neatitinka sekos, vadinasi yra anomalija.\n",
    "\n",
    "##### pvz: \n",
    "\n",
    "##### list_3 = [17,18,19,21]\n",
    "\n",
    "##### Tarp skaiciu 17 ir 18 anomalijos nera \n",
    "##### Tarp skaiciu 18 ir 19 anomalijos nera \n",
    "##### Anomalija yra! Skaiciai 19 ir 21 nera einantys vienas po kito! Trukstamas skaicius yra 20\n"
   ]
  },
  {
   "cell_type": "code",
   "execution_count": 9,
   "metadata": {},
   "outputs": [
    {
     "data": {
      "text/plain": [
       "18"
      ]
     },
     "execution_count": 9,
     "metadata": {},
     "output_type": "execute_result"
    }
   ],
   "source": [
    "list_3 = [17,18,19,20]\n",
    "list_3[1]"
   ]
  },
  {
   "cell_type": "code",
   "execution_count": 61,
   "metadata": {},
   "outputs": [],
   "source": [
    "def anomaly(*args):\n",
    "    for i in range(len(args)-1):\n",
    "        if args[i+1] == args[i]+1:\n",
    "            print(f'Tarp skaiciu {args[i]} ir {args[i+1]} anomalijos nera')\n",
    "        else:\n",
    "            print(f'Anomalija yra! Skaiciai {args[i]} ir {args[i+1]} nera einantys vienas po kito! Trukstamas skaicius/skaiciai yra {\", \".join(str(e) for e in list(range(args[i]+1,args[i+1])))}')\n",
    "        #print(list(*args)[i])"
   ]
  },
  {
   "cell_type": "code",
   "execution_count": 60,
   "metadata": {},
   "outputs": [
    {
     "name": "stdout",
     "output_type": "stream",
     "text": [
      "Tarp skaiciu 17 ir 18 anomalijos nera\n",
      "Tarp skaiciu 18 ir 19 anomalijos nera\n",
      "Tarp skaiciu 19 ir 20 anomalijos nera\n",
      "Tarp skaiciu 20 ir 21 anomalijos nera\n",
      "Anomalija yra! Skaiciai 21 ir 23 nera einantys vienas po kito! Trukstamas skaicius/skaiciai yra 22\n",
      "Tarp skaiciu 23 ir 24 anomalijos nera\n",
      "Tarp skaiciu 24 ir 25 anomalijos nera\n"
     ]
    }
   ],
   "source": [
    "anomaly(17,18,19,20,21,23,24, 25)"
   ]
  },
  {
   "cell_type": "code",
   "execution_count": 27,
   "metadata": {},
   "outputs": [],
   "source": [
    "def anomaly(*args):\n",
    "    for i in range(len(*args)-1):\n",
    "        if list(*args)[i+1] == list(*args)[i]+1:\n",
    "            print(f'Tarp skaiciu {list(*args)[i]} ir {list(*args)[i+1]} anomalijos nera')\n",
    "        else:\n",
    "            print(f'Anomalija yra! Skaiciai {list(*args)[i]} ir {list(*args)[i+1]} nera einantys vienas po kito! Trukstamas skaicius yra {list(*args)[i]+1}')\n",
    "        #print(list(*args)[i])"
   ]
  },
  {
   "cell_type": "code",
   "execution_count": 28,
   "metadata": {},
   "outputs": [
    {
     "name": "stdout",
     "output_type": "stream",
     "text": [
      "Tarp skaiciu 17 ir 18 anomalijos nera\n",
      "Tarp skaiciu 18 ir 19 anomalijos nera\n",
      "Tarp skaiciu 19 ir 20 anomalijos nera\n",
      "Tarp skaiciu 20 ir 21 anomalijos nera\n",
      "Anomalija yra! Skaiciai 21 ir 24 nera einantys vienas po kito! Trukstamas skaicius yra 22\n",
      "Tarp skaiciu 24 ir 25 anomalijos nera\n"
     ]
    }
   ],
   "source": [
    "anomaly([17,18,19,20,21, 24, 25])"
   ]
  },
  {
   "cell_type": "markdown",
   "metadata": {},
   "source": [
    "### 6. Parašykite funkciją, kuri priims list’ą, gaukite didžiausią šalia esančių skaičių sandaugą.\n",
    "##### my_list = [3, 6, -2, -5, 7, 3]\n",
    "##### rezultatas = 21, nes 7 ir 3 sandauga yra didžiausia"
   ]
  },
  {
   "cell_type": "code",
   "execution_count": 15,
   "metadata": {},
   "outputs": [],
   "source": [
    "def my_function(*args):\n",
    "    max_multiplied = 1\n",
    "    for i in range(len(args)-1):\n",
    "        multiplied = args[i] * args[i+1]\n",
    "        if max_multiplied < multiplied:\n",
    "            max_multiplied = multiplied\n",
    "            numbers = [args[i],args[i+1]]\n",
    "    print(f'rezultatas = {max_multiplied}, nes {numbers[0]} ir {numbers[1]} sandauga yra didziausia')\n"
   ]
  },
  {
   "cell_type": "code",
   "execution_count": 16,
   "metadata": {},
   "outputs": [
    {
     "name": "stdout",
     "output_type": "stream",
     "text": [
      "rezultatas = 21, nes 7 ir 3 sandauga yra didziausia\n"
     ]
    }
   ],
   "source": [
    "my_function(3,6,-2,-5,7,3)"
   ]
  }
 ],
 "metadata": {
  "interpreter": {
   "hash": "f9978182bf679f263596547431d29e9cec7015cfc91316134a594a6696d7f386"
  },
  "kernelspec": {
   "display_name": "Python 3.8.5 32-bit",
   "language": "python",
   "name": "python3"
  },
  "language_info": {
   "codemirror_mode": {
    "name": "ipython",
    "version": 3
   },
   "file_extension": ".py",
   "mimetype": "text/x-python",
   "name": "python",
   "nbconvert_exporter": "python",
   "pygments_lexer": "ipython3",
   "version": "3.8.5"
  },
  "orig_nbformat": 4
 },
 "nbformat": 4,
 "nbformat_minor": 2
}
