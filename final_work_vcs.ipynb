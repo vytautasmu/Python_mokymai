{
 "cells": [
  {
   "cell_type": "code",
   "execution_count": 169,
   "metadata": {},
   "outputs": [],
   "source": [
    "from selenium.common.exceptions import NoSuchElementException, ElementClickInterceptedException\n",
    "from selenium import webdriver\n",
    "import time\n",
    "import pandas as pd\n",
    "from selenium.webdriver.common.action_chains import ActionChains\n",
    "import numpy as np\n",
    "import seaborn as sns\n",
    "import matplotlib.pyplot as plt"
   ]
  },
  {
   "cell_type": "code",
   "execution_count": 48,
   "metadata": {},
   "outputs": [
    {
     "name": "stdout",
     "output_type": "stream",
     "text": [
      "Progress: 0/600\n",
      "Progress: 1/600\n",
      "Progress: 2/600\n",
      "Progress: 3/600\n",
      "Progress: 4/600\n",
      "Progress: 5/600\n",
      "Progress: 6/600\n",
      "Progress: 7/600\n",
      "Progress: 8/600\n",
      "Progress: 9/600\n",
      "Progress: 10/600\n",
      "Progress: 11/600\n",
      "Progress: 12/600\n",
      "Progress: 13/600\n",
      "Progress: 14/600\n",
      "Progress: 15/600\n",
      "Progress: 16/600\n",
      "Progress: 17/600\n",
      "Progress: 18/600\n",
      "Progress: 19/600\n",
      "Progress: 20/600\n",
      "Progress: 21/600\n",
      "Progress: 22/600\n",
      "Progress: 23/600\n",
      "Progress: 24/600\n",
      "Progress: 25/600\n",
      "Progress: 26/600\n",
      "Progress: 27/600\n",
      "Progress: 28/600\n",
      "Progress: 29/600\n",
      "Progress: 30/600\n",
      "Progress: 31/600\n",
      "Progress: 32/600\n",
      "Progress: 33/600\n",
      "Progress: 34/600\n",
      "Progress: 35/600\n",
      "Progress: 36/600\n",
      "Progress: 37/600\n",
      "Progress: 38/600\n",
      "Progress: 39/600\n",
      "Progress: 40/600\n",
      "Progress: 41/600\n",
      "Progress: 42/600\n",
      "Progress: 43/600\n",
      "Progress: 44/600\n",
      "Progress: 45/600\n",
      "Progress: 46/600\n",
      "Progress: 47/600\n",
      "Progress: 48/600\n",
      "Progress: 49/600\n",
      "Progress: 50/600\n",
      "Progress: 51/600\n",
      "Progress: 52/600\n",
      "Progress: 53/600\n",
      "Progress: 54/600\n",
      "Progress: 55/600\n",
      "Progress: 56/600\n",
      "Progress: 57/600\n",
      "Progress: 58/600\n",
      "Progress: 59/600\n",
      "Progress: 60/600\n",
      "Progress: 61/600\n",
      "Progress: 62/600\n",
      "Progress: 63/600\n",
      "Progress: 64/600\n",
      "Progress: 65/600\n",
      "Progress: 66/600\n",
      "Progress: 67/600\n",
      "Progress: 68/600\n",
      "Progress: 69/600\n",
      "Progress: 70/600\n",
      "Progress: 71/600\n",
      "Progress: 72/600\n",
      "Progress: 73/600\n",
      "Progress: 74/600\n",
      "Progress: 75/600\n",
      "Progress: 76/600\n",
      "Progress: 77/600\n",
      "Progress: 78/600\n",
      "Progress: 79/600\n",
      "Progress: 80/600\n",
      "Progress: 81/600\n",
      "Progress: 82/600\n",
      "Progress: 83/600\n",
      "Progress: 84/600\n",
      "Progress: 85/600\n",
      "Progress: 86/600\n",
      "Progress: 87/600\n",
      "Progress: 88/600\n",
      "Progress: 89/600\n",
      "Progress: 90/600\n",
      "Progress: 91/600\n",
      "Progress: 92/600\n",
      "Progress: 93/600\n",
      "Progress: 94/600\n",
      "Progress: 95/600\n",
      "Progress: 96/600\n",
      "Progress: 97/600\n",
      "Progress: 98/600\n",
      "Progress: 99/600\n",
      "Progress: 100/600\n",
      "Progress: 101/600\n",
      "Progress: 102/600\n",
      "Progress: 103/600\n",
      "Progress: 104/600\n",
      "Progress: 105/600\n",
      "Progress: 106/600\n",
      "Progress: 107/600\n",
      "Progress: 108/600\n",
      "Progress: 109/600\n",
      "Progress: 110/600\n",
      "Progress: 111/600\n",
      "Progress: 112/600\n",
      "Progress: 113/600\n",
      "Progress: 114/600\n",
      "Progress: 115/600\n",
      "Progress: 116/600\n",
      "Progress: 117/600\n",
      "Progress: 118/600\n",
      "Progress: 119/600\n",
      "Progress: 120/600\n",
      "Progress: 121/600\n",
      "Progress: 122/600\n",
      "Progress: 123/600\n",
      "Progress: 124/600\n",
      "Progress: 125/600\n",
      "Progress: 126/600\n",
      "Progress: 127/600\n",
      "Progress: 128/600\n",
      "Progress: 129/600\n",
      "Progress: 130/600\n",
      "Progress: 131/600\n",
      "Progress: 132/600\n",
      "Progress: 133/600\n",
      "Progress: 134/600\n",
      "Progress: 135/600\n",
      "Progress: 136/600\n",
      "Progress: 137/600\n",
      "Progress: 138/600\n",
      "Progress: 139/600\n",
      "Progress: 140/600\n",
      "Progress: 141/600\n",
      "Progress: 142/600\n",
      "Progress: 143/600\n",
      "Progress: 144/600\n",
      "Progress: 145/600\n",
      "Progress: 146/600\n",
      "Progress: 147/600\n",
      "Progress: 148/600\n",
      "Progress: 149/600\n",
      "Progress: 150/600\n",
      "Progress: 151/600\n",
      "Progress: 152/600\n",
      "Progress: 153/600\n",
      "Progress: 154/600\n",
      "Progress: 155/600\n",
      "Progress: 156/600\n",
      "Progress: 157/600\n",
      "Progress: 158/600\n",
      "Progress: 159/600\n",
      "Progress: 160/600\n",
      "Progress: 161/600\n",
      "Progress: 162/600\n",
      "Progress: 163/600\n",
      "Progress: 164/600\n",
      "Progress: 165/600\n",
      "Progress: 166/600\n",
      "Progress: 167/600\n",
      "Progress: 168/600\n",
      "Progress: 169/600\n",
      "Progress: 170/600\n",
      "Progress: 171/600\n",
      "Progress: 172/600\n",
      "Progress: 173/600\n",
      "Progress: 174/600\n",
      "Progress: 175/600\n",
      "Progress: 176/600\n",
      "Progress: 177/600\n",
      "Progress: 178/600\n",
      "Progress: 179/600\n",
      "Progress: 180/600\n",
      "Progress: 181/600\n",
      "Progress: 182/600\n",
      "Progress: 183/600\n",
      "Progress: 184/600\n",
      "Progress: 185/600\n",
      "Progress: 186/600\n",
      "Progress: 187/600\n",
      "Progress: 188/600\n",
      "Progress: 189/600\n",
      "Progress: 190/600\n",
      "Progress: 191/600\n",
      "Progress: 192/600\n",
      "Progress: 193/600\n",
      "Progress: 194/600\n",
      "Progress: 195/600\n",
      "Progress: 196/600\n",
      "Progress: 197/600\n",
      "Progress: 198/600\n",
      "Progress: 199/600\n",
      "Progress: 200/600\n",
      "Progress: 201/600\n",
      "Progress: 202/600\n",
      "Progress: 203/600\n",
      "Progress: 204/600\n",
      "Progress: 205/600\n",
      "Progress: 206/600\n",
      "Progress: 207/600\n",
      "Progress: 208/600\n",
      "Progress: 209/600\n",
      "Progress: 210/600\n",
      "Progress: 211/600\n",
      "Progress: 212/600\n",
      "Progress: 213/600\n",
      "Progress: 214/600\n",
      "Progress: 215/600\n",
      "Progress: 216/600\n",
      "Progress: 217/600\n",
      "Progress: 218/600\n",
      "Progress: 219/600\n",
      "Progress: 220/600\n",
      "Progress: 221/600\n",
      "Progress: 222/600\n",
      "Progress: 223/600\n",
      "Progress: 224/600\n",
      "Progress: 225/600\n",
      "Progress: 226/600\n",
      "Progress: 227/600\n",
      "Progress: 228/600\n",
      "Progress: 229/600\n",
      "Progress: 230/600\n",
      "Progress: 231/600\n",
      "Progress: 232/600\n",
      "Progress: 233/600\n",
      "Progress: 234/600\n",
      "Progress: 235/600\n",
      "Progress: 236/600\n",
      "Progress: 237/600\n",
      "Progress: 238/600\n",
      "Progress: 239/600\n",
      "Progress: 240/600\n",
      "Progress: 241/600\n",
      "Progress: 242/600\n",
      "Progress: 243/600\n",
      "Progress: 244/600\n",
      "Progress: 245/600\n",
      "Progress: 246/600\n",
      "Progress: 247/600\n",
      "Progress: 248/600\n",
      "Progress: 249/600\n",
      "Progress: 250/600\n",
      "Progress: 251/600\n",
      "Progress: 252/600\n",
      "Progress: 253/600\n",
      "Progress: 254/600\n",
      "Progress: 255/600\n",
      "Progress: 256/600\n",
      "Progress: 257/600\n",
      "Progress: 258/600\n",
      "Progress: 259/600\n",
      "Progress: 260/600\n",
      "Progress: 261/600\n",
      "Progress: 262/600\n",
      "Progress: 263/600\n",
      "Progress: 264/600\n",
      "Progress: 265/600\n",
      "Progress: 266/600\n",
      "Progress: 267/600\n",
      "Progress: 268/600\n",
      "Progress: 269/600\n",
      "Progress: 270/600\n",
      "Progress: 271/600\n",
      "Progress: 272/600\n",
      "Progress: 273/600\n",
      "Progress: 274/600\n",
      "Progress: 275/600\n",
      "Progress: 276/600\n",
      "Progress: 277/600\n",
      "Progress: 278/600\n",
      "Progress: 279/600\n",
      "Progress: 280/600\n",
      "Progress: 281/600\n",
      "Progress: 282/600\n",
      "Progress: 283/600\n",
      "Progress: 284/600\n",
      "Progress: 285/600\n",
      "Progress: 286/600\n",
      "Progress: 287/600\n",
      "Progress: 288/600\n",
      "Progress: 289/600\n",
      "Progress: 290/600\n",
      "Progress: 291/600\n",
      "Progress: 292/600\n",
      "Progress: 293/600\n",
      "Progress: 294/600\n",
      "Progress: 295/600\n",
      "Progress: 296/600\n",
      "Progress: 297/600\n",
      "Progress: 298/600\n",
      "Progress: 299/600\n",
      "Progress: 300/600\n",
      "Progress: 301/600\n",
      "Progress: 302/600\n",
      "Progress: 303/600\n",
      "Progress: 304/600\n",
      "Progress: 305/600\n",
      "Progress: 306/600\n",
      "Progress: 307/600\n",
      "Progress: 308/600\n",
      "Progress: 309/600\n",
      "Progress: 310/600\n",
      "Progress: 311/600\n",
      "Progress: 312/600\n",
      "Progress: 313/600\n",
      "Progress: 314/600\n",
      "Progress: 315/600\n",
      "Progress: 316/600\n",
      "Progress: 317/600\n",
      "Progress: 318/600\n",
      "Progress: 319/600\n",
      "Progress: 320/600\n",
      "Progress: 321/600\n",
      "Progress: 322/600\n",
      "Progress: 323/600\n",
      "Progress: 324/600\n",
      "Progress: 325/600\n",
      "Progress: 326/600\n",
      "Progress: 327/600\n",
      "Progress: 328/600\n",
      "Progress: 329/600\n",
      "Progress: 330/600\n",
      "Progress: 331/600\n",
      "Progress: 332/600\n",
      "Progress: 333/600\n",
      "Progress: 334/600\n",
      "Progress: 335/600\n",
      "Progress: 336/600\n",
      "Progress: 337/600\n",
      "Progress: 338/600\n",
      "Progress: 339/600\n",
      "Progress: 340/600\n",
      "Progress: 341/600\n",
      "Progress: 342/600\n",
      "Progress: 343/600\n",
      "Progress: 344/600\n",
      "Progress: 345/600\n",
      "Progress: 346/600\n",
      "Progress: 347/600\n",
      "Progress: 348/600\n",
      "Progress: 349/600\n",
      "Progress: 350/600\n",
      "Progress: 351/600\n",
      "Progress: 352/600\n",
      "Progress: 353/600\n",
      "Progress: 354/600\n",
      "Progress: 355/600\n",
      "Progress: 356/600\n",
      "Progress: 357/600\n",
      "Progress: 358/600\n",
      "Progress: 359/600\n",
      "Progress: 360/600\n",
      "Progress: 361/600\n",
      "Progress: 362/600\n",
      "Progress: 363/600\n",
      "Progress: 364/600\n",
      "Progress: 365/600\n",
      "Progress: 366/600\n",
      "Progress: 367/600\n",
      "Progress: 368/600\n",
      "Progress: 369/600\n",
      "Progress: 370/600\n",
      "Progress: 371/600\n",
      "Progress: 372/600\n",
      "Progress: 373/600\n",
      "Progress: 374/600\n",
      "Progress: 375/600\n",
      "Progress: 376/600\n",
      "Progress: 377/600\n",
      "Progress: 378/600\n",
      "Progress: 379/600\n",
      "Progress: 380/600\n",
      "Progress: 381/600\n",
      "Progress: 382/600\n",
      "Progress: 383/600\n",
      "Progress: 384/600\n",
      "Progress: 385/600\n",
      "Progress: 386/600\n",
      "Progress: 387/600\n",
      "Progress: 388/600\n",
      "Progress: 389/600\n",
      "Progress: 390/600\n",
      "Progress: 391/600\n",
      "Progress: 392/600\n",
      "Progress: 393/600\n",
      "Progress: 394/600\n",
      "Progress: 395/600\n",
      "Progress: 396/600\n",
      "Progress: 397/600\n",
      "Progress: 398/600\n",
      "Progress: 399/600\n",
      "Progress: 400/600\n",
      "Progress: 401/600\n",
      "Progress: 402/600\n",
      "Progress: 403/600\n",
      "Progress: 404/600\n",
      "Progress: 405/600\n",
      "Progress: 406/600\n",
      "Progress: 407/600\n",
      "Progress: 408/600\n",
      "Progress: 409/600\n",
      "Progress: 410/600\n",
      "Progress: 411/600\n",
      "Progress: 412/600\n",
      "Progress: 413/600\n",
      "Progress: 414/600\n",
      "Progress: 415/600\n",
      "Progress: 416/600\n",
      "Progress: 417/600\n",
      "Progress: 418/600\n",
      "Progress: 419/600\n",
      "Progress: 420/600\n",
      "Progress: 421/600\n",
      "Progress: 422/600\n",
      "Progress: 423/600\n",
      "Progress: 424/600\n",
      "Progress: 425/600\n",
      "Progress: 426/600\n",
      "Progress: 427/600\n",
      "Progress: 428/600\n",
      "Progress: 429/600\n",
      "Progress: 430/600\n",
      "Progress: 431/600\n",
      "Progress: 432/600\n",
      "Progress: 433/600\n",
      "Progress: 434/600\n",
      "Progress: 435/600\n",
      "Progress: 436/600\n",
      "Progress: 437/600\n",
      "Progress: 438/600\n",
      "Progress: 439/600\n",
      "Progress: 440/600\n",
      "Progress: 441/600\n",
      "Progress: 442/600\n",
      "Progress: 443/600\n",
      "Progress: 444/600\n",
      "Progress: 445/600\n",
      "Progress: 446/600\n",
      "Progress: 447/600\n",
      "Progress: 448/600\n",
      "Progress: 449/600\n",
      "Progress: 450/600\n",
      "Progress: 451/600\n",
      "Progress: 452/600\n",
      "Progress: 453/600\n",
      "Progress: 454/600\n",
      "Progress: 455/600\n",
      "Progress: 456/600\n",
      "Progress: 457/600\n",
      "Progress: 458/600\n",
      "Progress: 459/600\n",
      "Progress: 460/600\n",
      "Progress: 461/600\n",
      "Progress: 462/600\n",
      "Progress: 463/600\n",
      "Progress: 464/600\n",
      "Progress: 465/600\n",
      "Progress: 466/600\n",
      "Progress: 467/600\n",
      "Progress: 468/600\n",
      "Progress: 469/600\n",
      "Progress: 470/600\n",
      "Progress: 471/600\n",
      "Progress: 472/600\n",
      "Progress: 473/600\n",
      "Progress: 474/600\n",
      "Progress: 475/600\n",
      "Progress: 476/600\n",
      "Progress: 477/600\n",
      "Progress: 478/600\n",
      "Progress: 479/600\n",
      "Progress: 480/600\n",
      "Progress: 481/600\n",
      "Progress: 482/600\n",
      "Progress: 483/600\n",
      "Progress: 484/600\n",
      "Progress: 485/600\n",
      "Progress: 486/600\n",
      "Progress: 487/600\n",
      "Progress: 488/600\n",
      "Progress: 489/600\n",
      "Progress: 490/600\n",
      "Progress: 491/600\n",
      "Progress: 492/600\n",
      "Progress: 493/600\n",
      "Progress: 494/600\n",
      "Progress: 495/600\n",
      "Progress: 496/600\n",
      "Progress: 497/600\n",
      "Progress: 498/600\n",
      "Progress: 499/600\n",
      "Progress: 500/600\n",
      "Progress: 501/600\n",
      "Progress: 502/600\n",
      "Progress: 503/600\n",
      "Progress: 504/600\n",
      "Progress: 505/600\n",
      "Progress: 506/600\n",
      "Progress: 507/600\n",
      "Progress: 508/600\n",
      "Progress: 509/600\n",
      "Progress: 510/600\n",
      "Progress: 511/600\n",
      "Progress: 512/600\n",
      "Progress: 513/600\n",
      "Progress: 514/600\n",
      "Progress: 515/600\n",
      "Progress: 516/600\n",
      "Progress: 517/600\n",
      "Progress: 518/600\n",
      "Progress: 519/600\n",
      "Progress: 520/600\n",
      "Progress: 521/600\n",
      "Progress: 522/600\n",
      "Progress: 523/600\n",
      "Progress: 524/600\n",
      "Progress: 525/600\n"
     ]
    }
   ],
   "source": [
    "import glassdoor_scraper as gs \n",
    "import pandas as pd \n",
    "\n",
    "df = gs.get_jobs('data engineer', 600, False)\n",
    "\n",
    "df.to_csv('glassdoor_engineer_jobs.csv', index = False)"
   ]
  },
  {
   "cell_type": "markdown",
   "metadata": {},
   "source": [
    "Merging data, removing duplicates, removing unwanted columns"
   ]
  },
  {
   "cell_type": "code",
   "execution_count": 7,
   "metadata": {},
   "outputs": [],
   "source": [
    "df_engineer = pd.read_csv('engineer_jobs-450.csv', index_col = 0)\n",
    "df_analyst = pd.read_csv('glassdoor_analyst_jobs.csv')\n",
    "df_scientist = pd.read_csv('glassdoor_jobs.csv', index_col=0)\n",
    "df_scientist_300 = pd.read_csv('jobs-300.csv', index_col=0)\n",
    "df_scientist_400 = pd.read_csv('jobs-400.csv', index_col=0)"
   ]
  },
  {
   "cell_type": "code",
   "execution_count": 8,
   "metadata": {},
   "outputs": [],
   "source": [
    "df_jobs_new = pd.concat([df_scientist_300, df_scientist_400, df_analyst, df_engineer], ignore_index=True)"
   ]
  },
  {
   "cell_type": "code",
   "execution_count": 9,
   "metadata": {},
   "outputs": [],
   "source": [
    "df_jobs_new = df_jobs_new.drop_duplicates()"
   ]
  },
  {
   "cell_type": "code",
   "execution_count": 11,
   "metadata": {},
   "outputs": [],
   "source": [
    "df_scientist = df_scientist.drop(columns = ['Rating', 'Headquarters', 'Competitors'])"
   ]
  },
  {
   "cell_type": "code",
   "execution_count": 12,
   "metadata": {},
   "outputs": [],
   "source": [
    "df_master = pd.concat([df_scientist, df_jobs_new], ignore_index=True)"
   ]
  },
  {
   "cell_type": "code",
   "execution_count": 13,
   "metadata": {},
   "outputs": [],
   "source": [
    "df_master = df_master.drop_duplicates()"
   ]
  },
  {
   "cell_type": "markdown",
   "metadata": {},
   "source": [
    "# Data Cleansing"
   ]
  },
  {
   "cell_type": "markdown",
   "metadata": {},
   "source": [
    "1. Salaries"
   ]
  },
  {
   "cell_type": "code",
   "execution_count": 14,
   "metadata": {},
   "outputs": [],
   "source": [
    "df_master = df_master[df_master['Salary Estimate'] != '-1']\n",
    "df_master = df_master.reset_index()"
   ]
  },
  {
   "cell_type": "code",
   "execution_count": 15,
   "metadata": {},
   "outputs": [],
   "source": [
    "df_master['hourly'] = df_master['Salary Estimate'].apply(lambda x: 1 if 'per hour' in x.lower() else 0)\n",
    "df_master['employer_provided'] = df_master['Salary Estimate'].apply(lambda x: 1 if 'employer provided salary' in x.lower() else 0)"
   ]
  },
  {
   "cell_type": "code",
   "execution_count": 16,
   "metadata": {},
   "outputs": [],
   "source": [
    "salary = df_master['Salary Estimate'].apply(lambda x: x.split('(')[0])\n",
    "without_Kd = salary.apply(lambda x: x.replace('K', '').replace('$', ''))\n",
    "pure_salary = without_Kd.apply(lambda x: x.lower().replace('employer provided salary:', '').replace('per hour', '').replace(' ', ''))"
   ]
  },
  {
   "cell_type": "code",
   "execution_count": 27,
   "metadata": {},
   "outputs": [],
   "source": [
    "df_master['Min Salary'] = pure_salary.apply(lambda x: int(x.split('-')[0]))\n",
    "df_master['Max Salary'] = pure_salary.apply(lambda x: int(x.split('-')[1]) if len(x) > 3 else int(x.split('-')[0]))"
   ]
  },
  {
   "cell_type": "code",
   "execution_count": 28,
   "metadata": {},
   "outputs": [],
   "source": [
    "df_master['Average Salary'] = (df_master['Max Salary'] + df_master['Min Salary']) / 2"
   ]
  },
  {
   "cell_type": "markdown",
   "metadata": {},
   "source": [
    "2. Extract ratings from Company names"
   ]
  },
  {
   "cell_type": "code",
   "execution_count": 73,
   "metadata": {},
   "outputs": [],
   "source": [
    "rating = df_master['Company Name'].apply(lambda x : x[-3:] if x is not np.nan else x)"
   ]
  },
  {
   "cell_type": "code",
   "execution_count": 87,
   "metadata": {},
   "outputs": [],
   "source": [
    "# function that return True if there are any numbers in string and returns False if number is abscent\n",
    "\n",
    "def num_there(s):\n",
    "    return any(i.isdigit() for i in s)"
   ]
  },
  {
   "cell_type": "code",
   "execution_count": 90,
   "metadata": {},
   "outputs": [],
   "source": [
    "rating = rating.apply(lambda x : x if x is not np.nan and num_there(x) else '-1' )"
   ]
  },
  {
   "cell_type": "code",
   "execution_count": 91,
   "metadata": {},
   "outputs": [],
   "source": [
    "df_master['Rating'] = rating"
   ]
  },
  {
   "cell_type": "code",
   "execution_count": 96,
   "metadata": {},
   "outputs": [],
   "source": [
    "df_master['company_text'] = df_master.apply(lambda x: x['Company Name'] if float(x['Rating']) < 0 else x['Company Name'][:-3], axis = 1)\n",
    "df_master['company_text'] = df_master['company_text'].apply(lambda x : x.replace('\\n', '') if x is not np.nan else x)"
   ]
  },
  {
   "cell_type": "markdown",
   "metadata": {},
   "source": [
    "3. Location. Split city and state into different columns"
   ]
  },
  {
   "cell_type": "code",
   "execution_count": 104,
   "metadata": {},
   "outputs": [],
   "source": [
    "df_master['Location'] = df_master['Location'].apply(lambda x : x.replace('Remote', 'Remote, Remote'))"
   ]
  },
  {
   "cell_type": "code",
   "execution_count": 155,
   "metadata": {},
   "outputs": [],
   "source": [
    "df_master['city'] = df_master['Location'].apply(lambda x : x.split(',')[0])\n",
    "df_master['state'] = df_master['Location'].apply(lambda x : x.split(',')[1])\n",
    "df_master['state'] = df_master['state'].apply(lambda x : x.replace(' ', ''))"
   ]
  },
  {
   "cell_type": "code",
   "execution_count": 158,
   "metadata": {},
   "outputs": [
    {
     "data": {
      "text/plain": [
       "CA        181\n",
       "NY        100\n",
       "MA         73\n",
       "VA         35\n",
       "Remote     32\n",
       "WA         32\n",
       "MD         29\n",
       "TX         28\n",
       "IL         27\n",
       "PA         22\n",
       "DC         19\n",
       "FL         15\n",
       "NJ         15\n",
       "UT         13\n",
       "NC         13\n",
       "CO         12\n",
       "MO         10\n",
       "OH          9\n",
       "TN          9\n",
       "IN          8\n",
       "OR          8\n",
       "WI          7\n",
       "AZ          7\n",
       "GA          6\n",
       "CT          6\n",
       "AL          6\n",
       "KY          5\n",
       "NE          5\n",
       "MI          4\n",
       "OK          4\n",
       "IA          3\n",
       "ID          3\n",
       "LA          3\n",
       "NM          2\n",
       "DE          2\n",
       "SC          2\n",
       "MN          2\n",
       "KS          1\n",
       "AR          1\n",
       "AS          1\n",
       "RI          1\n",
       "Name: state, dtype: int64"
      ]
     },
     "execution_count": 158,
     "metadata": {},
     "output_type": "execute_result"
    }
   ],
   "source": [
    "df_master['state'].value_counts()"
   ]
  },
  {
   "cell_type": "markdown",
   "metadata": {},
   "source": [
    "4. Column \"Founded\" change to company age"
   ]
  },
  {
   "cell_type": "code",
   "execution_count": 110,
   "metadata": {},
   "outputs": [],
   "source": [
    "df_master['company_age'] = df_master['Founded'].apply(lambda x: (2022 - x) if x > 0 else x)"
   ]
  },
  {
   "cell_type": "markdown",
   "metadata": {},
   "source": [
    "5. Get some information from description"
   ]
  },
  {
   "cell_type": "code",
   "execution_count": 116,
   "metadata": {},
   "outputs": [
    {
     "data": {
      "text/plain": [
       "1    466\n",
       "0    295\n",
       "Name: python, dtype: int64"
      ]
     },
     "execution_count": 116,
     "metadata": {},
     "output_type": "execute_result"
    }
   ],
   "source": [
    "# Python\n",
    "df_master['python'] = df_master['Job Description'].apply(lambda x : 1 if 'python' in x.lower() else 0)\n",
    "df_master['python'].value_counts()"
   ]
  },
  {
   "cell_type": "code",
   "execution_count": 117,
   "metadata": {},
   "outputs": [
    {
     "data": {
      "text/plain": [
       "0    755\n",
       "1      6\n",
       "Name: r_studio, dtype: int64"
      ]
     },
     "execution_count": 117,
     "metadata": {},
     "output_type": "execute_result"
    }
   ],
   "source": [
    "# R Studio\n",
    "df_master['r_studio'] = df_master['Job Description'].apply(lambda x : 1 if 'r studio' in x.lower() or 'r-studio' in x.lower() else 0)\n",
    "df_master['r_studio'].value_counts()"
   ]
  },
  {
   "cell_type": "code",
   "execution_count": 118,
   "metadata": {},
   "outputs": [
    {
     "data": {
      "text/plain": [
       "1    457\n",
       "0    304\n",
       "Name: sql, dtype: int64"
      ]
     },
     "execution_count": 118,
     "metadata": {},
     "output_type": "execute_result"
    }
   ],
   "source": [
    "# SQL\n",
    "df_master['sql'] = df_master['Job Description'].apply(lambda x : 1 if 'sql' in x.lower() else 0)\n",
    "df_master['sql'].value_counts()"
   ]
  },
  {
   "cell_type": "code",
   "execution_count": 119,
   "metadata": {},
   "outputs": [
    {
     "data": {
      "text/plain": [
       "0    727\n",
       "1     34\n",
       "Name: javascript, dtype: int64"
      ]
     },
     "execution_count": 119,
     "metadata": {},
     "output_type": "execute_result"
    }
   ],
   "source": [
    "# Javascript\n",
    "df_master['javascript'] = df_master['Job Description'].apply(lambda x : 1 if 'javascript' in x.lower() else 0)\n",
    "df_master['javascript'].value_counts()"
   ]
  },
  {
   "cell_type": "code",
   "execution_count": 120,
   "metadata": {},
   "outputs": [
    {
     "data": {
      "text/plain": [
       "0    599\n",
       "1    162\n",
       "Name: spark, dtype: int64"
      ]
     },
     "execution_count": 120,
     "metadata": {},
     "output_type": "execute_result"
    }
   ],
   "source": [
    "# Spark\n",
    "df_master['spark'] = df_master['Job Description'].apply(lambda x : 1 if 'spark' in x.lower() else 0)\n",
    "df_master['spark'].value_counts()"
   ]
  },
  {
   "cell_type": "code",
   "execution_count": 124,
   "metadata": {},
   "outputs": [
    {
     "data": {
      "text/plain": [
       "1    396\n",
       "0    365\n",
       "Name: excel, dtype: int64"
      ]
     },
     "execution_count": 124,
     "metadata": {},
     "output_type": "execute_result"
    }
   ],
   "source": [
    "# Excel\n",
    "df_master['excel'] = df_master['Job Description'].apply(lambda x : 1 if 'excel' in x.lower() else 0)\n",
    "df_master['excel'].value_counts()"
   ]
  },
  {
   "cell_type": "code",
   "execution_count": 125,
   "metadata": {},
   "outputs": [
    {
     "data": {
      "text/plain": [
       "0    650\n",
       "1    111\n",
       "Name: hadoop, dtype: int64"
      ]
     },
     "execution_count": 125,
     "metadata": {},
     "output_type": "execute_result"
    }
   ],
   "source": [
    "# hadoop\n",
    "df_master['hadoop'] = df_master['Job Description'].apply(lambda x : 1 if 'hadoop' in x.lower() else 0)\n",
    "df_master['hadoop'].value_counts()"
   ]
  },
  {
   "cell_type": "code",
   "execution_count": 129,
   "metadata": {},
   "outputs": [
    {
     "data": {
      "text/plain": [
       "0    569\n",
       "1    192\n",
       "Name: aws, dtype: int64"
      ]
     },
     "execution_count": 129,
     "metadata": {},
     "output_type": "execute_result"
    }
   ],
   "source": [
    "# aws\n",
    "df_master['aws'] = df_master['Job Description'].apply(lambda x : 1 if 'aws' in x.lower() else 0)\n",
    "df_master['aws'].value_counts()"
   ]
  },
  {
   "cell_type": "code",
   "execution_count": 131,
   "metadata": {},
   "outputs": [
    {
     "data": {
      "text/plain": [
       "0    593\n",
       "1    168\n",
       "Name: scala, dtype: int64"
      ]
     },
     "execution_count": 131,
     "metadata": {},
     "output_type": "execute_result"
    }
   ],
   "source": [
    "# scala\n",
    "df_master['scala'] = df_master['Job Description'].apply(lambda x : 1 if 'scala' in x.lower() else 0)\n",
    "df_master['scala'].value_counts()"
   ]
  },
  {
   "cell_type": "code",
   "execution_count": 159,
   "metadata": {},
   "outputs": [
    {
     "data": {
      "text/plain": [
       "0    718\n",
       "1     43\n",
       "Name: power_bi, dtype: int64"
      ]
     },
     "execution_count": 159,
     "metadata": {},
     "output_type": "execute_result"
    }
   ],
   "source": [
    "# power bi\n",
    "df_master['power_bi'] = df_master['Job Description'].apply(lambda x : 1 if 'power bi' in x.lower() else 0)\n",
    "df_master['power_bi'].value_counts()"
   ]
  },
  {
   "cell_type": "code",
   "execution_count": 160,
   "metadata": {},
   "outputs": [
    {
     "data": {
      "text/plain": [
       "0    586\n",
       "1    175\n",
       "Name: tableau, dtype: int64"
      ]
     },
     "execution_count": 160,
     "metadata": {},
     "output_type": "execute_result"
    }
   ],
   "source": [
    "# tableau\n",
    "df_master['tableau'] = df_master['Job Description'].apply(lambda x : 1 if 'tableau' in x.lower() else 0)\n",
    "df_master['tableau'].value_counts()"
   ]
  },
  {
   "cell_type": "markdown",
   "metadata": {},
   "source": [
    "6. Get seniority"
   ]
  },
  {
   "cell_type": "code",
   "execution_count": 163,
   "metadata": {},
   "outputs": [],
   "source": [
    "def seniority(title):\n",
    "    if 'senior' in title.lower() or 'sr' in title.lower() or 'sr.' in title.lower() or 'lead' in title.lower() or 'chief' in title.lower():\n",
    "        return 'senior'\n",
    "    elif 'jr.' in title.lower() or 'jr' in title.lower() or 'junior' in title.lower():\n",
    "        return 'junior'\n",
    "    else:\n",
    "        return 'na'"
   ]
  },
  {
   "cell_type": "code",
   "execution_count": 166,
   "metadata": {},
   "outputs": [
    {
     "data": {
      "text/plain": [
       "na        620\n",
       "senior    117\n",
       "junior     24\n",
       "Name: seniority, dtype: int64"
      ]
     },
     "execution_count": 166,
     "metadata": {},
     "output_type": "execute_result"
    }
   ],
   "source": [
    "df_master['seniority'] = df_master['Job Title'].apply(seniority)\n",
    "df_master['seniority'].value_counts()"
   ]
  },
  {
   "cell_type": "markdown",
   "metadata": {},
   "source": [
    "7. Normalise Job Titles"
   ]
  },
  {
   "cell_type": "code",
   "execution_count": 167,
   "metadata": {},
   "outputs": [],
   "source": [
    "def title_norm(title):\n",
    "    if 'data analyst' in title.lower() or 'analyst' in title.lower():\n",
    "        return 'data analyst'\n",
    "    elif 'scientist' in title.lower() or 'science' in title.lower() or 'data scientist' in title.lower():\n",
    "        return 'data scientist'\n",
    "    elif 'engineer' in title.lower():\n",
    "        return 'data engineer'\n",
    "    else:\n",
    "        return 'na'"
   ]
  },
  {
   "cell_type": "code",
   "execution_count": 168,
   "metadata": {},
   "outputs": [
    {
     "data": {
      "text/plain": [
       "data scientist    392\n",
       "data engineer     176\n",
       "data analyst      166\n",
       "na                 27\n",
       "Name: job_title_norm, dtype: int64"
      ]
     },
     "execution_count": 168,
     "metadata": {},
     "output_type": "execute_result"
    }
   ],
   "source": [
    "df_master['job_title_norm'] = df_master['Job Title'].apply(title_norm)\n",
    "df_master['job_title_norm'].value_counts()"
   ]
  },
  {
   "cell_type": "markdown",
   "metadata": {},
   "source": [
    "8. Change hourly to yearly salary"
   ]
  },
  {
   "cell_type": "code",
   "execution_count": null,
   "metadata": {},
   "outputs": [],
   "source": [
    "df_master['avg'] = df_master['hourly'].apply(lambda x: x * 2 )"
   ]
  },
  {
   "cell_type": "code",
   "execution_count": null,
   "metadata": {},
   "outputs": [],
   "source": []
  },
  {
   "cell_type": "markdown",
   "metadata": {},
   "source": [
    " # EDA"
   ]
  },
  {
   "cell_type": "code",
   "execution_count": 170,
   "metadata": {},
   "outputs": [
    {
     "data": {
      "text/plain": [
       "Index(['index', 'Job Title', 'Salary Estimate', 'Job Description',\n",
       "       'Company Name', 'Location', 'Size', 'Founded', 'Type of ownership',\n",
       "       'Industry', 'Sector', 'Revenue', 'hourly', 'employer_provided',\n",
       "       'Min Salary', 'Max Salary', 'Average Salary', 'Rating', 'company_text',\n",
       "       'city', 'state', 'company_age', 'python', 'r_studio', 'sql',\n",
       "       'javascript', 'spark', 'excel', 'hadoop', 'aws', 'scala', 'power_bi',\n",
       "       'tableau', 'seniority', 'job_title_norm'],\n",
       "      dtype='object')"
      ]
     },
     "execution_count": 170,
     "metadata": {},
     "output_type": "execute_result"
    }
   ],
   "source": [
    "df_master.columns"
   ]
  },
  {
   "cell_type": "code",
   "execution_count": 174,
   "metadata": {},
   "outputs": [
    {
     "name": "stderr",
     "output_type": "stream",
     "text": [
      "C:\\Users\\vytau\\AppData\\Local\\Programs\\Python\\Python38-32\\lib\\site-packages\\seaborn\\_decorators.py:36: FutureWarning: Pass the following variable as a keyword arg: x. From version 0.12, the only valid positional argument will be `data`, and passing other arguments without an explicit keyword will result in an error or misinterpretation.\n",
      "  warnings.warn(\n"
     ]
    },
    {
     "data": {
      "image/png": "[encoded data removed]",
      "text/plain": [
       "<Figure size 432x288 with 1 Axes>"
      ]
     },
     "metadata": {
      "needs_background": "light"
     },
     "output_type": "display_data"
    }
   ],
   "source": [
    "ax = sns.countplot(df_master['state'])\n",
    "ax.invert_xaxis()"
   ]
  },
  {
   "cell_type": "markdown",
   "metadata": {},
   "source": []
  },
  {
   "cell_type": "code",
   "execution_count": null,
   "metadata": {},
   "outputs": [],
   "source": []
  }
 ],
 "metadata": {
  "interpreter": {
   "hash": "f9978182bf679f263596547431d29e9cec7015cfc91316134a594a6696d7f386"
  },
  "kernelspec": {
   "display_name": "Python 3.8.5 32-bit",
   "language": "python",
   "name": "python3"
  },
  "language_info": {
   "codemirror_mode": {
    "name": "ipython",
    "version": 3
   },
   "file_extension": ".py",
   "mimetype": "text/x-python",
   "name": "python",
   "nbconvert_exporter": "python",
   "pygments_lexer": "ipython3",
   "version": "3.8.5"
  },
  "orig_nbformat": 4
 },
 "nbformat": 4,
 "nbformat_minor": 2
}
